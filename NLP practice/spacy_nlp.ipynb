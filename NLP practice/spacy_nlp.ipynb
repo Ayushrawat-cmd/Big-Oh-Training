{
 "cells": [
  {
   "cell_type": "code",
   "execution_count": 22,
   "metadata": {},
   "outputs": [
    {
     "name": "stdout",
     "output_type": "stream",
     "text": [
      "Requirement already satisfied: spacy in c:\\users\\ayush\\desktop\\study\\big oh training\\big oh training\\big-oh-training\\.venv\\lib\\site-packages (3.7.4)\n",
      "Requirement already satisfied: spacy-legacy<3.1.0,>=3.0.11 in c:\\users\\ayush\\desktop\\study\\big oh training\\big oh training\\big-oh-training\\.venv\\lib\\site-packages (from spacy) (3.0.12)\n",
      "Requirement already satisfied: spacy-loggers<2.0.0,>=1.0.0 in c:\\users\\ayush\\desktop\\study\\big oh training\\big oh training\\big-oh-training\\.venv\\lib\\site-packages (from spacy) (1.0.5)\n",
      "Requirement already satisfied: murmurhash<1.1.0,>=0.28.0 in c:\\users\\ayush\\desktop\\study\\big oh training\\big oh training\\big-oh-training\\.venv\\lib\\site-packages (from spacy) (1.0.10)\n",
      "Requirement already satisfied: cymem<2.1.0,>=2.0.2 in c:\\users\\ayush\\desktop\\study\\big oh training\\big oh training\\big-oh-training\\.venv\\lib\\site-packages (from spacy) (2.0.8)\n",
      "Requirement already satisfied: preshed<3.1.0,>=3.0.2 in c:\\users\\ayush\\desktop\\study\\big oh training\\big oh training\\big-oh-training\\.venv\\lib\\site-packages (from spacy) (3.0.9)\n",
      "Requirement already satisfied: thinc<8.3.0,>=8.2.2 in c:\\users\\ayush\\desktop\\study\\big oh training\\big oh training\\big-oh-training\\.venv\\lib\\site-packages (from spacy) (8.2.3)\n",
      "Requirement already satisfied: wasabi<1.2.0,>=0.9.1 in c:\\users\\ayush\\desktop\\study\\big oh training\\big oh training\\big-oh-training\\.venv\\lib\\site-packages (from spacy) (1.1.2)\n",
      "Requirement already satisfied: srsly<3.0.0,>=2.4.3 in c:\\users\\ayush\\desktop\\study\\big oh training\\big oh training\\big-oh-training\\.venv\\lib\\site-packages (from spacy) (2.4.8)\n",
      "Requirement already satisfied: catalogue<2.1.0,>=2.0.6 in c:\\users\\ayush\\desktop\\study\\big oh training\\big oh training\\big-oh-training\\.venv\\lib\\site-packages (from spacy) (2.0.10)\n",
      "Requirement already satisfied: weasel<0.4.0,>=0.1.0 in c:\\users\\ayush\\desktop\\study\\big oh training\\big oh training\\big-oh-training\\.venv\\lib\\site-packages (from spacy) (0.3.4)\n",
      "Requirement already satisfied: typer<0.10.0,>=0.3.0 in c:\\users\\ayush\\desktop\\study\\big oh training\\big oh training\\big-oh-training\\.venv\\lib\\site-packages (from spacy) (0.9.0)\n",
      "Requirement already satisfied: smart-open<7.0.0,>=5.2.1 in c:\\users\\ayush\\desktop\\study\\big oh training\\big oh training\\big-oh-training\\.venv\\lib\\site-packages (from spacy) (6.4.0)\n",
      "Requirement already satisfied: tqdm<5.0.0,>=4.38.0 in c:\\users\\ayush\\desktop\\study\\big oh training\\big oh training\\big-oh-training\\.venv\\lib\\site-packages (from spacy) (4.66.2)\n",
      "Requirement already satisfied: requests<3.0.0,>=2.13.0 in c:\\users\\ayush\\desktop\\study\\big oh training\\big oh training\\big-oh-training\\.venv\\lib\\site-packages (from spacy) (2.31.0)\n",
      "Requirement already satisfied: pydantic!=1.8,!=1.8.1,<3.0.0,>=1.7.4 in c:\\users\\ayush\\desktop\\study\\big oh training\\big oh training\\big-oh-training\\.venv\\lib\\site-packages (from spacy) (2.6.1)\n",
      "Requirement already satisfied: jinja2 in c:\\users\\ayush\\desktop\\study\\big oh training\\big oh training\\big-oh-training\\.venv\\lib\\site-packages (from spacy) (3.1.3)\n",
      "Requirement already satisfied: setuptools in c:\\users\\ayush\\desktop\\study\\big oh training\\big oh training\\big-oh-training\\.venv\\lib\\site-packages (from spacy) (65.5.0)\n",
      "Requirement already satisfied: packaging>=20.0 in c:\\users\\ayush\\desktop\\study\\big oh training\\big oh training\\big-oh-training\\.venv\\lib\\site-packages (from spacy) (23.2)\n",
      "Requirement already satisfied: langcodes<4.0.0,>=3.2.0 in c:\\users\\ayush\\desktop\\study\\big oh training\\big oh training\\big-oh-training\\.venv\\lib\\site-packages (from spacy) (3.3.0)\n",
      "Requirement already satisfied: numpy>=1.19.0 in c:\\users\\ayush\\desktop\\study\\big oh training\\big oh training\\big-oh-training\\.venv\\lib\\site-packages (from spacy) (1.26.4)\n",
      "Requirement already satisfied: annotated-types>=0.4.0 in c:\\users\\ayush\\desktop\\study\\big oh training\\big oh training\\big-oh-training\\.venv\\lib\\site-packages (from pydantic!=1.8,!=1.8.1,<3.0.0,>=1.7.4->spacy) (0.6.0)\n",
      "Requirement already satisfied: pydantic-core==2.16.2 in c:\\users\\ayush\\desktop\\study\\big oh training\\big oh training\\big-oh-training\\.venv\\lib\\site-packages (from pydantic!=1.8,!=1.8.1,<3.0.0,>=1.7.4->spacy) (2.16.2)\n",
      "Requirement already satisfied: typing-extensions>=4.6.1 in c:\\users\\ayush\\desktop\\study\\big oh training\\big oh training\\big-oh-training\\.venv\\lib\\site-packages (from pydantic!=1.8,!=1.8.1,<3.0.0,>=1.7.4->spacy) (4.9.0)\n",
      "Requirement already satisfied: charset-normalizer<4,>=2 in c:\\users\\ayush\\desktop\\study\\big oh training\\big oh training\\big-oh-training\\.venv\\lib\\site-packages (from requests<3.0.0,>=2.13.0->spacy) (3.3.2)\n",
      "Requirement already satisfied: idna<4,>=2.5 in c:\\users\\ayush\\desktop\\study\\big oh training\\big oh training\\big-oh-training\\.venv\\lib\\site-packages (from requests<3.0.0,>=2.13.0->spacy) (3.6)\n",
      "Requirement already satisfied: urllib3<3,>=1.21.1 in c:\\users\\ayush\\desktop\\study\\big oh training\\big oh training\\big-oh-training\\.venv\\lib\\site-packages (from requests<3.0.0,>=2.13.0->spacy) (2.2.0)\n",
      "Requirement already satisfied: certifi>=2017.4.17 in c:\\users\\ayush\\desktop\\study\\big oh training\\big oh training\\big-oh-training\\.venv\\lib\\site-packages (from requests<3.0.0,>=2.13.0->spacy) (2024.2.2)\n",
      "Requirement already satisfied: blis<0.8.0,>=0.7.8 in c:\\users\\ayush\\desktop\\study\\big oh training\\big oh training\\big-oh-training\\.venv\\lib\\site-packages (from thinc<8.3.0,>=8.2.2->spacy) (0.7.11)\n",
      "Requirement already satisfied: confection<1.0.0,>=0.0.1 in c:\\users\\ayush\\desktop\\study\\big oh training\\big oh training\\big-oh-training\\.venv\\lib\\site-packages (from thinc<8.3.0,>=8.2.2->spacy) (0.1.4)\n",
      "Requirement already satisfied: colorama in c:\\users\\ayush\\desktop\\study\\big oh training\\big oh training\\big-oh-training\\.venv\\lib\\site-packages (from tqdm<5.0.0,>=4.38.0->spacy) (0.4.6)\n",
      "Requirement already satisfied: click<9.0.0,>=7.1.1 in c:\\users\\ayush\\desktop\\study\\big oh training\\big oh training\\big-oh-training\\.venv\\lib\\site-packages (from typer<0.10.0,>=0.3.0->spacy) (8.1.7)\n",
      "Requirement already satisfied: cloudpathlib<0.17.0,>=0.7.0 in c:\\users\\ayush\\desktop\\study\\big oh training\\big oh training\\big-oh-training\\.venv\\lib\\site-packages (from weasel<0.4.0,>=0.1.0->spacy) (0.16.0)\n",
      "Requirement already satisfied: MarkupSafe>=2.0 in c:\\users\\ayush\\desktop\\study\\big oh training\\big oh training\\big-oh-training\\.venv\\lib\\site-packages (from jinja2->spacy) (2.1.5)\n"
     ]
    }
   ],
   "source": [
    "!pip install spacy"
   ]
  },
  {
   "cell_type": "code",
   "execution_count": 23,
   "metadata": {},
   "outputs": [
    {
     "name": "stdout",
     "output_type": "stream",
     "text": [
      "Collecting en-core-web-sm==3.7.1\n",
      "  Downloading https://github.com/explosion/spacy-models/releases/download/en_core_web_sm-3.7.1/en_core_web_sm-3.7.1-py3-none-any.whl (12.8 MB)\n",
      "     ---------------------------------------- 0.0/12.8 MB ? eta -:--:--\n",
      "     -- ------------------------------------- 0.8/12.8 MB 16.1 MB/s eta 0:00:01\n",
      "     ----- ---------------------------------- 1.8/12.8 MB 19.2 MB/s eta 0:00:01\n",
      "     -------- ------------------------------- 2.8/12.8 MB 19.9 MB/s eta 0:00:01\n",
      "     ------------ --------------------------- 4.0/12.8 MB 21.1 MB/s eta 0:00:01\n",
      "     --------------- ------------------------ 5.1/12.8 MB 21.7 MB/s eta 0:00:01\n",
      "     ------------------- -------------------- 6.3/12.8 MB 22.3 MB/s eta 0:00:01\n",
      "     ---------------------- ----------------- 7.4/12.8 MB 22.4 MB/s eta 0:00:01\n",
      "     -------------------------- ------------- 8.5/12.8 MB 22.7 MB/s eta 0:00:01\n",
      "     ------------------------------ --------- 9.6/12.8 MB 22.8 MB/s eta 0:00:01\n",
      "     ---------------------------------- ---- 11.4/12.8 MB 25.2 MB/s eta 0:00:01\n",
      "     ------------------------------------- - 12.4/12.8 MB 24.2 MB/s eta 0:00:01\n",
      "     --------------------------------------  12.8/12.8 MB 22.6 MB/s eta 0:00:01\n",
      "     --------------------------------------  12.8/12.8 MB 22.6 MB/s eta 0:00:01\n",
      "     --------------------------------------  12.8/12.8 MB 22.6 MB/s eta 0:00:01\n",
      "     --------------------------------------  12.8/12.8 MB 22.6 MB/s eta 0:00:01\n",
      "     --------------------------------------  12.8/12.8 MB 22.6 MB/s eta 0:00:01\n",
      "     --------------------------------------  12.8/12.8 MB 22.6 MB/s eta 0:00:01\n",
      "     --------------------------------------  12.8/12.8 MB 22.6 MB/s eta 0:00:01\n",
      "     --------------------------------------  12.8/12.8 MB 22.6 MB/s eta 0:00:01\n",
      "     --------------------------------------  12.8/12.8 MB 22.6 MB/s eta 0:00:01\n",
      "     --------------------------------------  12.8/12.8 MB 22.6 MB/s eta 0:00:01\n",
      "     --------------------------------------  12.8/12.8 MB 22.6 MB/s eta 0:00:01\n",
      "     --------------------------------------  12.8/12.8 MB 22.6 MB/s eta 0:00:01\n",
      "     --------------------------------------  12.8/12.8 MB 22.6 MB/s eta 0:00:01\n",
      "     --------------------------------------  12.8/12.8 MB 22.6 MB/s eta 0:00:01\n",
      "     --------------------------------------  12.8/12.8 MB 22.6 MB/s eta 0:00:01\n",
      "     ---------------------------------------- 12.8/12.8 MB 8.5 MB/s eta 0:00:00\n",
      "Requirement already satisfied: spacy<3.8.0,>=3.7.2 in c:\\users\\ayush\\desktop\\study\\big oh training\\big oh training\\big-oh-training\\.venv\\lib\\site-packages (from en-core-web-sm==3.7.1) (3.7.4)\n",
      "Requirement already satisfied: spacy-legacy<3.1.0,>=3.0.11 in c:\\users\\ayush\\desktop\\study\\big oh training\\big oh training\\big-oh-training\\.venv\\lib\\site-packages (from spacy<3.8.0,>=3.7.2->en-core-web-sm==3.7.1) (3.0.12)\n",
      "Requirement already satisfied: spacy-loggers<2.0.0,>=1.0.0 in c:\\users\\ayush\\desktop\\study\\big oh training\\big oh training\\big-oh-training\\.venv\\lib\\site-packages (from spacy<3.8.0,>=3.7.2->en-core-web-sm==3.7.1) (1.0.5)\n",
      "Requirement already satisfied: murmurhash<1.1.0,>=0.28.0 in c:\\users\\ayush\\desktop\\study\\big oh training\\big oh training\\big-oh-training\\.venv\\lib\\site-packages (from spacy<3.8.0,>=3.7.2->en-core-web-sm==3.7.1) (1.0.10)\n",
      "Requirement already satisfied: cymem<2.1.0,>=2.0.2 in c:\\users\\ayush\\desktop\\study\\big oh training\\big oh training\\big-oh-training\\.venv\\lib\\site-packages (from spacy<3.8.0,>=3.7.2->en-core-web-sm==3.7.1) (2.0.8)\n",
      "Requirement already satisfied: preshed<3.1.0,>=3.0.2 in c:\\users\\ayush\\desktop\\study\\big oh training\\big oh training\\big-oh-training\\.venv\\lib\\site-packages (from spacy<3.8.0,>=3.7.2->en-core-web-sm==3.7.1) (3.0.9)\n",
      "Requirement already satisfied: thinc<8.3.0,>=8.2.2 in c:\\users\\ayush\\desktop\\study\\big oh training\\big oh training\\big-oh-training\\.venv\\lib\\site-packages (from spacy<3.8.0,>=3.7.2->en-core-web-sm==3.7.1) (8.2.3)\n",
      "Requirement already satisfied: wasabi<1.2.0,>=0.9.1 in c:\\users\\ayush\\desktop\\study\\big oh training\\big oh training\\big-oh-training\\.venv\\lib\\site-packages (from spacy<3.8.0,>=3.7.2->en-core-web-sm==3.7.1) (1.1.2)\n",
      "Requirement already satisfied: srsly<3.0.0,>=2.4.3 in c:\\users\\ayush\\desktop\\study\\big oh training\\big oh training\\big-oh-training\\.venv\\lib\\site-packages (from spacy<3.8.0,>=3.7.2->en-core-web-sm==3.7.1) (2.4.8)\n",
      "Requirement already satisfied: catalogue<2.1.0,>=2.0.6 in c:\\users\\ayush\\desktop\\study\\big oh training\\big oh training\\big-oh-training\\.venv\\lib\\site-packages (from spacy<3.8.0,>=3.7.2->en-core-web-sm==3.7.1) (2.0.10)\n",
      "Requirement already satisfied: weasel<0.4.0,>=0.1.0 in c:\\users\\ayush\\desktop\\study\\big oh training\\big oh training\\big-oh-training\\.venv\\lib\\site-packages (from spacy<3.8.0,>=3.7.2->en-core-web-sm==3.7.1) (0.3.4)\n",
      "Requirement already satisfied: typer<0.10.0,>=0.3.0 in c:\\users\\ayush\\desktop\\study\\big oh training\\big oh training\\big-oh-training\\.venv\\lib\\site-packages (from spacy<3.8.0,>=3.7.2->en-core-web-sm==3.7.1) (0.9.0)\n",
      "Requirement already satisfied: smart-open<7.0.0,>=5.2.1 in c:\\users\\ayush\\desktop\\study\\big oh training\\big oh training\\big-oh-training\\.venv\\lib\\site-packages (from spacy<3.8.0,>=3.7.2->en-core-web-sm==3.7.1) (6.4.0)\n",
      "Requirement already satisfied: tqdm<5.0.0,>=4.38.0 in c:\\users\\ayush\\desktop\\study\\big oh training\\big oh training\\big-oh-training\\.venv\\lib\\site-packages (from spacy<3.8.0,>=3.7.2->en-core-web-sm==3.7.1) (4.66.2)\n",
      "Requirement already satisfied: requests<3.0.0,>=2.13.0 in c:\\users\\ayush\\desktop\\study\\big oh training\\big oh training\\big-oh-training\\.venv\\lib\\site-packages (from spacy<3.8.0,>=3.7.2->en-core-web-sm==3.7.1) (2.31.0)\n",
      "Requirement already satisfied: pydantic!=1.8,!=1.8.1,<3.0.0,>=1.7.4 in c:\\users\\ayush\\desktop\\study\\big oh training\\big oh training\\big-oh-training\\.venv\\lib\\site-packages (from spacy<3.8.0,>=3.7.2->en-core-web-sm==3.7.1) (2.6.1)\n",
      "Requirement already satisfied: jinja2 in c:\\users\\ayush\\desktop\\study\\big oh training\\big oh training\\big-oh-training\\.venv\\lib\\site-packages (from spacy<3.8.0,>=3.7.2->en-core-web-sm==3.7.1) (3.1.3)\n",
      "Requirement already satisfied: setuptools in c:\\users\\ayush\\desktop\\study\\big oh training\\big oh training\\big-oh-training\\.venv\\lib\\site-packages (from spacy<3.8.0,>=3.7.2->en-core-web-sm==3.7.1) (65.5.0)\n",
      "Requirement already satisfied: packaging>=20.0 in c:\\users\\ayush\\desktop\\study\\big oh training\\big oh training\\big-oh-training\\.venv\\lib\\site-packages (from spacy<3.8.0,>=3.7.2->en-core-web-sm==3.7.1) (23.2)\n",
      "Requirement already satisfied: langcodes<4.0.0,>=3.2.0 in c:\\users\\ayush\\desktop\\study\\big oh training\\big oh training\\big-oh-training\\.venv\\lib\\site-packages (from spacy<3.8.0,>=3.7.2->en-core-web-sm==3.7.1) (3.3.0)\n",
      "Requirement already satisfied: numpy>=1.19.0 in c:\\users\\ayush\\desktop\\study\\big oh training\\big oh training\\big-oh-training\\.venv\\lib\\site-packages (from spacy<3.8.0,>=3.7.2->en-core-web-sm==3.7.1) (1.26.4)\n",
      "Requirement already satisfied: annotated-types>=0.4.0 in c:\\users\\ayush\\desktop\\study\\big oh training\\big oh training\\big-oh-training\\.venv\\lib\\site-packages (from pydantic!=1.8,!=1.8.1,<3.0.0,>=1.7.4->spacy<3.8.0,>=3.7.2->en-core-web-sm==3.7.1) (0.6.0)\n",
      "Requirement already satisfied: pydantic-core==2.16.2 in c:\\users\\ayush\\desktop\\study\\big oh training\\big oh training\\big-oh-training\\.venv\\lib\\site-packages (from pydantic!=1.8,!=1.8.1,<3.0.0,>=1.7.4->spacy<3.8.0,>=3.7.2->en-core-web-sm==3.7.1) (2.16.2)\n",
      "Requirement already satisfied: typing-extensions>=4.6.1 in c:\\users\\ayush\\desktop\\study\\big oh training\\big oh training\\big-oh-training\\.venv\\lib\\site-packages (from pydantic!=1.8,!=1.8.1,<3.0.0,>=1.7.4->spacy<3.8.0,>=3.7.2->en-core-web-sm==3.7.1) (4.9.0)\n",
      "Requirement already satisfied: charset-normalizer<4,>=2 in c:\\users\\ayush\\desktop\\study\\big oh training\\big oh training\\big-oh-training\\.venv\\lib\\site-packages (from requests<3.0.0,>=2.13.0->spacy<3.8.0,>=3.7.2->en-core-web-sm==3.7.1) (3.3.2)\n",
      "Requirement already satisfied: idna<4,>=2.5 in c:\\users\\ayush\\desktop\\study\\big oh training\\big oh training\\big-oh-training\\.venv\\lib\\site-packages (from requests<3.0.0,>=2.13.0->spacy<3.8.0,>=3.7.2->en-core-web-sm==3.7.1) (3.6)\n",
      "Requirement already satisfied: urllib3<3,>=1.21.1 in c:\\users\\ayush\\desktop\\study\\big oh training\\big oh training\\big-oh-training\\.venv\\lib\\site-packages (from requests<3.0.0,>=2.13.0->spacy<3.8.0,>=3.7.2->en-core-web-sm==3.7.1) (2.2.0)\n",
      "Requirement already satisfied: certifi>=2017.4.17 in c:\\users\\ayush\\desktop\\study\\big oh training\\big oh training\\big-oh-training\\.venv\\lib\\site-packages (from requests<3.0.0,>=2.13.0->spacy<3.8.0,>=3.7.2->en-core-web-sm==3.7.1) (2024.2.2)\n",
      "Requirement already satisfied: blis<0.8.0,>=0.7.8 in c:\\users\\ayush\\desktop\\study\\big oh training\\big oh training\\big-oh-training\\.venv\\lib\\site-packages (from thinc<8.3.0,>=8.2.2->spacy<3.8.0,>=3.7.2->en-core-web-sm==3.7.1) (0.7.11)\n",
      "Requirement already satisfied: confection<1.0.0,>=0.0.1 in c:\\users\\ayush\\desktop\\study\\big oh training\\big oh training\\big-oh-training\\.venv\\lib\\site-packages (from thinc<8.3.0,>=8.2.2->spacy<3.8.0,>=3.7.2->en-core-web-sm==3.7.1) (0.1.4)\n",
      "Requirement already satisfied: colorama in c:\\users\\ayush\\desktop\\study\\big oh training\\big oh training\\big-oh-training\\.venv\\lib\\site-packages (from tqdm<5.0.0,>=4.38.0->spacy<3.8.0,>=3.7.2->en-core-web-sm==3.7.1) (0.4.6)\n",
      "Requirement already satisfied: click<9.0.0,>=7.1.1 in c:\\users\\ayush\\desktop\\study\\big oh training\\big oh training\\big-oh-training\\.venv\\lib\\site-packages (from typer<0.10.0,>=0.3.0->spacy<3.8.0,>=3.7.2->en-core-web-sm==3.7.1) (8.1.7)\n",
      "Requirement already satisfied: cloudpathlib<0.17.0,>=0.7.0 in c:\\users\\ayush\\desktop\\study\\big oh training\\big oh training\\big-oh-training\\.venv\\lib\\site-packages (from weasel<0.4.0,>=0.1.0->spacy<3.8.0,>=3.7.2->en-core-web-sm==3.7.1) (0.16.0)\n",
      "Requirement already satisfied: MarkupSafe>=2.0 in c:\\users\\ayush\\desktop\\study\\big oh training\\big oh training\\big-oh-training\\.venv\\lib\\site-packages (from jinja2->spacy<3.8.0,>=3.7.2->en-core-web-sm==3.7.1) (2.1.5)\n",
      "\u001b[38;5;2m✔ Download and installation successful\u001b[0m\n",
      "You can now load the package via spacy.load('en_core_web_sm')\n"
     ]
    }
   ],
   "source": [
    "!python -m spacy download en_core_web_sm"
   ]
  },
  {
   "cell_type": "code",
   "execution_count": 24,
   "metadata": {},
   "outputs": [],
   "source": [
    "import spacy "
   ]
  },
  {
   "cell_type": "code",
   "execution_count": 25,
   "metadata": {},
   "outputs": [],
   "source": [
    "nlp = spacy.load(\"en_core_web_sm\")#loading english model in it"
   ]
  },
  {
   "cell_type": "code",
   "execution_count": 26,
   "metadata": {},
   "outputs": [
    {
     "name": "stdout",
     "output_type": "stream",
     "text": [
      "The United States of America (USA or U.S.A.), commonly known as the United States (US or U.S.) or America, is a country primarily located in North America, between Canada and Mexico. It is a liberal democracy and republic of 50 federated states, a federal capital district (Washington, D.C.), and 326 Indian reservations that overlap with state boundaries. Outside the union of states, it asserts sovereignty over five major unincorporated island territories and various uninhabited islands.[i] The country has the world's third-largest land area,[c] largest maritime exclusive economic zone, and the third-largest population (over 334 million).[j] The federal government uses a presidential system with three separate branches: legislative, executive, and judicial.\n",
      "\n",
      "American territory was first settled by Paleo-Indians who migrated across the Bering land bridge over 12,000 years ago. Colonization by the British began in 1607. Thirteen colonies eventually rebelled against the British Crown over taxation and political representation, declaring independence on July 4, 1776. Their victory in the American Revolutionary War (1775â€“83) resulted in a confederation of states before the U.S. Constitution and Bill of Rights were ratified. The young nation continued to acquire neighboring territories and spanned North America by the late 1840s. Longstanding disagreements over slavery led to the secession of the southern Confederate States of America, which were defeated by the remaining Union in the American Civil War (1861â€“65). Slavery was abolished, but discriminatory laws persisted in the South. By 1900, rapid industrialization established the United States as a great power and the world's largest economy. Following the Japanese attack on Pearl Harbor in December 1941, the United States joined the Allies of World War II. After their victory, it competed against the Soviet Union for dominance in nuclear arms, ideology, and international influence during the Space Race and Cold War. Many racist practices in the country were overturned in the 1960s, and its astronauts became the first humans to land on the Moon (1969). The nation emerged as the world's sole superpower after the dissolution of the Soviet Union (1991).\n",
      "\n",
      "The United States accounts for about 25% of the world's economy and 30% of its wealth. It has the largest nominal GDP internationally and ranks among the highest in measures of higher education, innovation, and productivity. The country is home to globally important industries in aerospace and defense, automobiles, energy, entertainment, finance, healthcare, and information technology. The United States is a founding member of the United Nations (UN), the North Atlantic Treaty Organization, the Organization of American States, the International Monetary Fund, the World Bank, the World Trade Organization, and is a permanent member of the UN Security Council.\n"
     ]
    }
   ],
   "source": [
    "with open(\"wiki_us.txt\") as f:\n",
    "    text = f.read()\n",
    "print(text)"
   ]
  },
  {
   "cell_type": "code",
   "execution_count": 27,
   "metadata": {},
   "outputs": [
    {
     "data": {
      "text/plain": [
       "The United States of America (USA or U.S.A.), commonly known as the United States (US or U.S.) or America, is a country primarily located in North America, between Canada and Mexico. It is a liberal democracy and republic of 50 federated states, a federal capital district (Washington, D.C.), and 326 Indian reservations that overlap with state boundaries. Outside the union of states, it asserts sovereignty over five major unincorporated island territories and various uninhabited islands.[i] The country has the world's third-largest land area,[c] largest maritime exclusive economic zone, and the third-largest population (over 334 million).[j] The federal government uses a presidential system with three separate branches: legislative, executive, and judicial.\n",
       "\n",
       "American territory was first settled by Paleo-Indians who migrated across the Bering land bridge over 12,000 years ago. Colonization by the British began in 1607. Thirteen colonies eventually rebelled against the British Crown over taxation and political representation, declaring independence on July 4, 1776. Their victory in the American Revolutionary War (1775â€“83) resulted in a confederation of states before the U.S. Constitution and Bill of Rights were ratified. The young nation continued to acquire neighboring territories and spanned North America by the late 1840s. Longstanding disagreements over slavery led to the secession of the southern Confederate States of America, which were defeated by the remaining Union in the American Civil War (1861â€“65). Slavery was abolished, but discriminatory laws persisted in the South. By 1900, rapid industrialization established the United States as a great power and the world's largest economy. Following the Japanese attack on Pearl Harbor in December 1941, the United States joined the Allies of World War II. After their victory, it competed against the Soviet Union for dominance in nuclear arms, ideology, and international influence during the Space Race and Cold War. Many racist practices in the country were overturned in the 1960s, and its astronauts became the first humans to land on the Moon (1969). The nation emerged as the world's sole superpower after the dissolution of the Soviet Union (1991).\n",
       "\n",
       "The United States accounts for about 25% of the world's economy and 30% of its wealth. It has the largest nominal GDP internationally and ranks among the highest in measures of higher education, innovation, and productivity. The country is home to globally important industries in aerospace and defense, automobiles, energy, entertainment, finance, healthcare, and information technology. The United States is a founding member of the United Nations (UN), the North Atlantic Treaty Organization, the Organization of American States, the International Monetary Fund, the World Bank, the World Trade Organization, and is a permanent member of the UN Security Council."
      ]
     },
     "execution_count": 27,
     "metadata": {},
     "output_type": "execute_result"
    }
   ],
   "source": [
    "doc = nlp(text)\n",
    "doc"
   ]
  },
  {
   "cell_type": "code",
   "execution_count": 28,
   "metadata": {},
   "outputs": [
    {
     "data": {
      "text/plain": [
       "(2905, 521)"
      ]
     },
     "execution_count": 28,
     "metadata": {},
     "output_type": "execute_result"
    }
   ],
   "source": [
    "len(text), len(doc)"
   ]
  },
  {
   "cell_type": "code",
   "execution_count": 29,
   "metadata": {},
   "outputs": [
    {
     "name": "stdout",
     "output_type": "stream",
     "text": [
      "T\n",
      "h\n",
      "e\n",
      " \n",
      "U\n",
      "n\n",
      "i\n",
      "t\n",
      "e\n",
      "d\n"
     ]
    }
   ],
   "source": [
    "for token in text[:10]:\n",
    "    print(token)"
   ]
  },
  {
   "cell_type": "code",
   "execution_count": 30,
   "metadata": {},
   "outputs": [
    {
     "name": "stdout",
     "output_type": "stream",
     "text": [
      "The\n",
      "United\n",
      "States\n",
      "of\n",
      "America\n",
      "(\n",
      "USA\n",
      "or\n",
      "U.S.A.\n",
      ")\n"
     ]
    }
   ],
   "source": [
    "for token in doc[:10]:\n",
    "    print(token)"
   ]
  },
  {
   "cell_type": "code",
   "execution_count": 31,
   "metadata": {},
   "outputs": [
    {
     "name": "stdout",
     "output_type": "stream",
     "text": [
      "The United States of America (USA or U.S.A.), commonly known as the United States (US or U.S.) or America, is a country primarily located in North America, between Canada and Mexico.\n",
      "It is a liberal democracy and republic of 50 federated states, a federal capital district (Washington, D.C.), and 326 Indian reservations that overlap with state boundaries.\n",
      "Outside the union of states, it asserts sovereignty over five major unincorporated island territories and various uninhabited islands.[i]\n",
      "The country has the world's third-largest land area,[c] largest maritime exclusive economic zone, and the third-largest population (over 334 million).[j]\n",
      "The federal government uses a presidential system with three separate branches: legislative, executive, and judicial.\n",
      "\n",
      "\n",
      "American territory was first settled by Paleo-Indians who migrated across the Bering land bridge over 12,000 years ago.\n",
      "Colonization by the British began in 1607.\n",
      "Thirteen colonies eventually rebelled against the British Crown over taxation and political representation, declaring independence on July 4, 1776.\n",
      "Their victory in the American Revolutionary War (1775â€“83) resulted in a confederation of states before the U.S. Constitution and Bill of Rights were ratified.\n",
      "The young nation continued to acquire neighboring territories and spanned North America by the late 1840s.\n",
      "Longstanding disagreements over slavery led to the secession of the southern Confederate States of America, which were defeated by the remaining Union in the American Civil War (1861â€“65).\n",
      "Slavery was abolished, but discriminatory laws persisted in the South.\n",
      "By 1900, rapid industrialization established the United States as a great power and the world's largest economy.\n",
      "Following the Japanese attack on Pearl Harbor in December 1941, the United States joined the Allies of World War II.\n",
      "After their victory, it competed against the Soviet Union for dominance in nuclear arms, ideology, and international influence during the Space Race and Cold War.\n",
      "Many racist practices in the country were overturned in the 1960s, and its astronauts became the first humans to land on the Moon (1969).\n",
      "The nation emerged as the world's sole superpower after the dissolution of the Soviet Union (1991).\n",
      "\n",
      "\n",
      "The United States accounts for about 25% of the world's economy and 30% of its wealth.\n",
      "It has the largest nominal GDP internationally and ranks among the highest in measures of higher education, innovation, and productivity.\n",
      "The country is home to globally important industries in aerospace and defense, automobiles, energy, entertainment, finance, healthcare, and information technology.\n",
      "The United States is a founding member of the United Nations (UN), the North Atlantic Treaty Organization, the Organization of American States, the International Monetary Fund, the World Bank, the World Trade Organization, and is a permanent member of the UN Security Council.\n"
     ]
    }
   ],
   "source": [
    "for sentence in doc.sents:\n",
    "    print(sentence)"
   ]
  },
  {
   "cell_type": "code",
   "execution_count": 32,
   "metadata": {},
   "outputs": [],
   "source": [
    "sentence1 = list(doc.sents)[0]\n",
    "# type(list(sentences))"
   ]
  },
  {
   "cell_type": "code",
   "execution_count": 33,
   "metadata": {},
   "outputs": [
    {
     "data": {
      "text/plain": [
       "The United States of America (USA or U.S.A.), commonly known as the United States (US or U.S.) or America, is a country primarily located in North America, between Canada and Mexico."
      ]
     },
     "execution_count": 33,
     "metadata": {},
     "output_type": "execute_result"
    }
   ],
   "source": [
    "# sentences = list(sentences)\n",
    "# sentence1 = sentences[0]\n",
    "sentence1"
   ]
  },
  {
   "cell_type": "code",
   "execution_count": 34,
   "metadata": {},
   "outputs": [
    {
     "data": {
      "text/plain": [
       "States"
      ]
     },
     "execution_count": 34,
     "metadata": {},
     "output_type": "execute_result"
    }
   ],
   "source": [
    "token2 = sentence1[2]\n",
    "token2"
   ]
  },
  {
   "cell_type": "code",
   "execution_count": 35,
   "metadata": {},
   "outputs": [
    {
     "data": {
      "text/plain": [
       "'States'"
      ]
     },
     "execution_count": 35,
     "metadata": {},
     "output_type": "execute_result"
    }
   ],
   "source": [
    "token2.text # its says its have text"
   ]
  },
  {
   "cell_type": "code",
   "execution_count": 36,
   "metadata": {},
   "outputs": [
    {
     "data": {
      "text/plain": [
       "The"
      ]
     },
     "execution_count": 36,
     "metadata": {},
     "output_type": "execute_result"
    }
   ],
   "source": [
    "token2.left_edge # it tells that it is multi level token which having \"the\"  at left most part of it"
   ]
  },
  {
   "cell_type": "code",
   "execution_count": 37,
   "metadata": {},
   "outputs": [
    {
     "data": {
      "text/plain": [
       "America"
      ]
     },
     "execution_count": 37,
     "metadata": {},
     "output_type": "execute_result"
    }
   ],
   "source": [
    "token2.right_edge"
   ]
  },
  {
   "cell_type": "code",
   "execution_count": 38,
   "metadata": {},
   "outputs": [
    {
     "data": {
      "text/plain": [
       "'GPE'"
      ]
     },
     "execution_count": 38,
     "metadata": {},
     "output_type": "execute_result"
    }
   ],
   "source": [
    "token2.ent_type_ #geo political entity"
   ]
  },
  {
   "cell_type": "code",
   "execution_count": 39,
   "metadata": {},
   "outputs": [
    {
     "data": {
      "text/plain": [
       "'I'"
      ]
     },
     "execution_count": 39,
     "metadata": {},
     "output_type": "execute_result"
    }
   ],
   "source": [
    "token2.ent_iob_\n",
    "#I refers to inside the entity\n",
    "#B refers to the beginning of the entity\n",
    "#O refers to outside the entity\n",
    "\n",
    "\n",
    "# in this case state in inside the entity(the united states of america)"
   ]
  },
  {
   "cell_type": "code",
   "execution_count": 40,
   "metadata": {},
   "outputs": [
    {
     "data": {
      "text/plain": [
       "'States'"
      ]
     },
     "execution_count": 40,
     "metadata": {},
     "output_type": "execute_result"
    }
   ],
   "source": [
    "token2.lemma_ #lemmatizer"
   ]
  },
  {
   "cell_type": "code",
   "execution_count": 41,
   "metadata": {},
   "outputs": [
    {
     "data": {
      "text/plain": [
       "'know'"
      ]
     },
     "execution_count": 41,
     "metadata": {},
     "output_type": "execute_result"
    }
   ],
   "source": [
    "sentence1[12].lemma_"
   ]
  },
  {
   "cell_type": "code",
   "execution_count": 42,
   "metadata": {},
   "outputs": [
    {
     "data": {
      "text/plain": [
       "Number=Sing"
      ]
     },
     "execution_count": 42,
     "metadata": {},
     "output_type": "execute_result"
    }
   ],
   "source": [
    "token2.morph #morphologically analysis"
   ]
  },
  {
   "cell_type": "code",
   "execution_count": 43,
   "metadata": {},
   "outputs": [
    {
     "data": {
      "text/plain": [
       "Aspect=Perf|Tense=Past|VerbForm=Part"
      ]
     },
     "execution_count": 43,
     "metadata": {},
     "output_type": "execute_result"
    }
   ],
   "source": [
    "sentence1[12].morph"
   ]
  },
  {
   "cell_type": "code",
   "execution_count": 44,
   "metadata": {},
   "outputs": [
    {
     "data": {
      "text/plain": [
       "'PROPN'"
      ]
     },
     "execution_count": 44,
     "metadata": {},
     "output_type": "execute_result"
    }
   ],
   "source": [
    "token2.pos_ #propn means it is proper noun"
   ]
  },
  {
   "cell_type": "code",
   "execution_count": 45,
   "metadata": {},
   "outputs": [
    {
     "data": {
      "text/plain": [
       "'nsubj'"
      ]
     },
     "execution_count": 45,
     "metadata": {},
     "output_type": "execute_result"
    }
   ],
   "source": [
    "token2.dep_ # role the word playing sentence which is noun subject"
   ]
  },
  {
   "cell_type": "code",
   "execution_count": 46,
   "metadata": {},
   "outputs": [
    {
     "data": {
      "text/plain": [
       "'en'"
      ]
     },
     "execution_count": 46,
     "metadata": {},
     "output_type": "execute_result"
    }
   ],
   "source": [
    "token2.lang_"
   ]
  },
  {
   "cell_type": "code",
   "execution_count": 47,
   "metadata": {},
   "outputs": [
    {
     "data": {
      "text/plain": [
       "Mike enjoys playing football."
      ]
     },
     "execution_count": 47,
     "metadata": {},
     "output_type": "execute_result"
    }
   ],
   "source": [
    "text = \"Mike enjoys playing football.\"\n",
    "doc2 = nlp(text)\n",
    "doc2"
   ]
  },
  {
   "cell_type": "code",
   "execution_count": 48,
   "metadata": {},
   "outputs": [
    {
     "name": "stdout",
     "output_type": "stream",
     "text": [
      "Mike PROPN nsubj\n",
      "enjoys VERB ROOT\n",
      "playing VERB xcomp\n",
      "football NOUN dobj\n",
      ". PUNCT punct\n"
     ]
    }
   ],
   "source": [
    "for token in doc2:\n",
    "    print(token.text, token.pos_, token.dep_)"
   ]
  },
  {
   "cell_type": "code",
   "execution_count": 49,
   "metadata": {},
   "outputs": [
    {
     "data": {
      "text/html": [
       "<span class=\"tex2jax_ignore\"><svg xmlns=\"http://www.w3.org/2000/svg\" xmlns:xlink=\"http://www.w3.org/1999/xlink\" xml:lang=\"en\" id=\"9c1c39f0d5e2485c84db0f404b1e6047-0\" class=\"displacy\" width=\"750\" height=\"224.5\" direction=\"ltr\" style=\"max-width: none; height: 224.5px; color: #000000; background: #ffffff; font-family: Arial; direction: ltr\">\n",
       "<text class=\"displacy-token\" fill=\"currentColor\" text-anchor=\"middle\" y=\"134.5\">\n",
       "    <tspan class=\"displacy-word\" fill=\"currentColor\" x=\"50\">Mike</tspan>\n",
       "    <tspan class=\"displacy-tag\" dy=\"2em\" fill=\"currentColor\" x=\"50\">PROPN</tspan>\n",
       "</text>\n",
       "\n",
       "<text class=\"displacy-token\" fill=\"currentColor\" text-anchor=\"middle\" y=\"134.5\">\n",
       "    <tspan class=\"displacy-word\" fill=\"currentColor\" x=\"225\">enjoys</tspan>\n",
       "    <tspan class=\"displacy-tag\" dy=\"2em\" fill=\"currentColor\" x=\"225\">VERB</tspan>\n",
       "</text>\n",
       "\n",
       "<text class=\"displacy-token\" fill=\"currentColor\" text-anchor=\"middle\" y=\"134.5\">\n",
       "    <tspan class=\"displacy-word\" fill=\"currentColor\" x=\"400\">playing</tspan>\n",
       "    <tspan class=\"displacy-tag\" dy=\"2em\" fill=\"currentColor\" x=\"400\">VERB</tspan>\n",
       "</text>\n",
       "\n",
       "<text class=\"displacy-token\" fill=\"currentColor\" text-anchor=\"middle\" y=\"134.5\">\n",
       "    <tspan class=\"displacy-word\" fill=\"currentColor\" x=\"575\">football.</tspan>\n",
       "    <tspan class=\"displacy-tag\" dy=\"2em\" fill=\"currentColor\" x=\"575\">NOUN</tspan>\n",
       "</text>\n",
       "\n",
       "<g class=\"displacy-arrow\">\n",
       "    <path class=\"displacy-arc\" id=\"arrow-9c1c39f0d5e2485c84db0f404b1e6047-0-0\" stroke-width=\"2px\" d=\"M70,89.5 C70,2.0 225.0,2.0 225.0,89.5\" fill=\"none\" stroke=\"currentColor\"/>\n",
       "    <text dy=\"1.25em\" style=\"font-size: 0.8em; letter-spacing: 1px\">\n",
       "        <textPath xlink:href=\"#arrow-9c1c39f0d5e2485c84db0f404b1e6047-0-0\" class=\"displacy-label\" startOffset=\"50%\" side=\"left\" fill=\"currentColor\" text-anchor=\"middle\">nsubj</textPath>\n",
       "    </text>\n",
       "    <path class=\"displacy-arrowhead\" d=\"M70,91.5 L62,79.5 78,79.5\" fill=\"currentColor\"/>\n",
       "</g>\n",
       "\n",
       "<g class=\"displacy-arrow\">\n",
       "    <path class=\"displacy-arc\" id=\"arrow-9c1c39f0d5e2485c84db0f404b1e6047-0-1\" stroke-width=\"2px\" d=\"M245,89.5 C245,2.0 400.0,2.0 400.0,89.5\" fill=\"none\" stroke=\"currentColor\"/>\n",
       "    <text dy=\"1.25em\" style=\"font-size: 0.8em; letter-spacing: 1px\">\n",
       "        <textPath xlink:href=\"#arrow-9c1c39f0d5e2485c84db0f404b1e6047-0-1\" class=\"displacy-label\" startOffset=\"50%\" side=\"left\" fill=\"currentColor\" text-anchor=\"middle\">xcomp</textPath>\n",
       "    </text>\n",
       "    <path class=\"displacy-arrowhead\" d=\"M400.0,91.5 L408.0,79.5 392.0,79.5\" fill=\"currentColor\"/>\n",
       "</g>\n",
       "\n",
       "<g class=\"displacy-arrow\">\n",
       "    <path class=\"displacy-arc\" id=\"arrow-9c1c39f0d5e2485c84db0f404b1e6047-0-2\" stroke-width=\"2px\" d=\"M420,89.5 C420,2.0 575.0,2.0 575.0,89.5\" fill=\"none\" stroke=\"currentColor\"/>\n",
       "    <text dy=\"1.25em\" style=\"font-size: 0.8em; letter-spacing: 1px\">\n",
       "        <textPath xlink:href=\"#arrow-9c1c39f0d5e2485c84db0f404b1e6047-0-2\" class=\"displacy-label\" startOffset=\"50%\" side=\"left\" fill=\"currentColor\" text-anchor=\"middle\">dobj</textPath>\n",
       "    </text>\n",
       "    <path class=\"displacy-arrowhead\" d=\"M575.0,91.5 L583.0,79.5 567.0,79.5\" fill=\"currentColor\"/>\n",
       "</g>\n",
       "</svg></span>"
      ],
      "text/plain": [
       "<IPython.core.display.HTML object>"
      ]
     },
     "metadata": {},
     "output_type": "display_data"
    }
   ],
   "source": [
    "from spacy import displacy\n",
    "displacy.render(doc2, style=\"dep\")"
   ]
  },
  {
   "cell_type": "code",
   "execution_count": 50,
   "metadata": {},
   "outputs": [
    {
     "name": "stdout",
     "output_type": "stream",
     "text": [
      "The United States of America GPE\n",
      "USA GPE\n",
      "U.S.A. GPE\n",
      "the United States GPE\n",
      "US GPE\n",
      "U.S. GPE\n",
      "America GPE\n",
      "North America LOC\n",
      "Canada GPE\n",
      "Mexico GPE\n",
      "50 CARDINAL\n",
      "Washington GPE\n",
      "D.C. GPE\n",
      "326 CARDINAL\n",
      "Indian NORP\n",
      "five CARDINAL\n",
      "third ORDINAL\n",
      "third ORDINAL\n",
      "three CARDINAL\n",
      "American NORP\n",
      "Paleo-Indians NORP\n",
      "12,000 years ago DATE\n",
      "British NORP\n",
      "1607 DATE\n",
      "Thirteen CARDINAL\n",
      "colonies GPE\n",
      "British NORP\n",
      "Crown PRODUCT\n",
      "July 4, 1776 DATE\n",
      "the American Revolutionary War ORG\n",
      "1775â€“83 CARDINAL\n",
      "the U.S. Constitution LAW\n",
      "Bill of Rights LAW\n",
      "North America LOC\n",
      "the late 1840s DATE\n",
      "Confederate States of America FAC\n",
      "the American Civil War ORG\n",
      "1861â€“65 PERSON\n",
      "South LOC\n",
      "1900 DATE\n",
      "the United States GPE\n",
      "Japanese NORP\n",
      "Pearl Harbor FAC\n",
      "December 1941 DATE\n",
      "the United States GPE\n",
      "the Allies of World War II ORG\n",
      "the Soviet Union GPE\n",
      "Cold War EVENT\n",
      "the 1960s DATE\n",
      "first ORDINAL\n",
      "1969 DATE\n",
      "the Soviet Union GPE\n",
      "1991 DATE\n",
      "The United States GPE\n",
      "about 25% PERCENT\n",
      "30% PERCENT\n",
      "healthcare ORG\n",
      "The United States GPE\n",
      "the United Nations ORG\n",
      "UN ORG\n",
      "the North Atlantic Treaty Organization ORG\n",
      "the Organization of American States ORG\n",
      "the International Monetary Fund ORG\n",
      "the World Bank ORG\n",
      "the World Trade Organization ORG\n",
      "the UN Security Council ORG\n"
     ]
    }
   ],
   "source": [
    "for ent in doc.ents:\n",
    "    print(ent.text, ent.label_)\n",
    "\n",
    "#NORP is nation or religious political entity"
   ]
  },
  {
   "cell_type": "code",
   "execution_count": 51,
   "metadata": {},
   "outputs": [
    {
     "data": {
      "text/html": [
       "<span class=\"tex2jax_ignore\"><div class=\"entities\" style=\"line-height: 2.5; direction: ltr\">\n",
       "<mark class=\"entity\" style=\"background: #feca74; padding: 0.45em 0.6em; margin: 0 0.25em; line-height: 1; border-radius: 0.35em;\">\n",
       "    The United States of America\n",
       "    <span style=\"font-size: 0.8em; font-weight: bold; line-height: 1; border-radius: 0.35em; vertical-align: middle; margin-left: 0.5rem\">GPE</span>\n",
       "</mark>\n",
       " (\n",
       "<mark class=\"entity\" style=\"background: #feca74; padding: 0.45em 0.6em; margin: 0 0.25em; line-height: 1; border-radius: 0.35em;\">\n",
       "    USA\n",
       "    <span style=\"font-size: 0.8em; font-weight: bold; line-height: 1; border-radius: 0.35em; vertical-align: middle; margin-left: 0.5rem\">GPE</span>\n",
       "</mark>\n",
       " or \n",
       "<mark class=\"entity\" style=\"background: #feca74; padding: 0.45em 0.6em; margin: 0 0.25em; line-height: 1; border-radius: 0.35em;\">\n",
       "    U.S.A.\n",
       "    <span style=\"font-size: 0.8em; font-weight: bold; line-height: 1; border-radius: 0.35em; vertical-align: middle; margin-left: 0.5rem\">GPE</span>\n",
       "</mark>\n",
       "), commonly known as \n",
       "<mark class=\"entity\" style=\"background: #feca74; padding: 0.45em 0.6em; margin: 0 0.25em; line-height: 1; border-radius: 0.35em;\">\n",
       "    the United States\n",
       "    <span style=\"font-size: 0.8em; font-weight: bold; line-height: 1; border-radius: 0.35em; vertical-align: middle; margin-left: 0.5rem\">GPE</span>\n",
       "</mark>\n",
       " (\n",
       "<mark class=\"entity\" style=\"background: #feca74; padding: 0.45em 0.6em; margin: 0 0.25em; line-height: 1; border-radius: 0.35em;\">\n",
       "    US\n",
       "    <span style=\"font-size: 0.8em; font-weight: bold; line-height: 1; border-radius: 0.35em; vertical-align: middle; margin-left: 0.5rem\">GPE</span>\n",
       "</mark>\n",
       " or \n",
       "<mark class=\"entity\" style=\"background: #feca74; padding: 0.45em 0.6em; margin: 0 0.25em; line-height: 1; border-radius: 0.35em;\">\n",
       "    U.S.\n",
       "    <span style=\"font-size: 0.8em; font-weight: bold; line-height: 1; border-radius: 0.35em; vertical-align: middle; margin-left: 0.5rem\">GPE</span>\n",
       "</mark>\n",
       ") or \n",
       "<mark class=\"entity\" style=\"background: #feca74; padding: 0.45em 0.6em; margin: 0 0.25em; line-height: 1; border-radius: 0.35em;\">\n",
       "    America\n",
       "    <span style=\"font-size: 0.8em; font-weight: bold; line-height: 1; border-radius: 0.35em; vertical-align: middle; margin-left: 0.5rem\">GPE</span>\n",
       "</mark>\n",
       ", is a country primarily located in \n",
       "<mark class=\"entity\" style=\"background: #ff9561; padding: 0.45em 0.6em; margin: 0 0.25em; line-height: 1; border-radius: 0.35em;\">\n",
       "    North America\n",
       "    <span style=\"font-size: 0.8em; font-weight: bold; line-height: 1; border-radius: 0.35em; vertical-align: middle; margin-left: 0.5rem\">LOC</span>\n",
       "</mark>\n",
       ", between \n",
       "<mark class=\"entity\" style=\"background: #feca74; padding: 0.45em 0.6em; margin: 0 0.25em; line-height: 1; border-radius: 0.35em;\">\n",
       "    Canada\n",
       "    <span style=\"font-size: 0.8em; font-weight: bold; line-height: 1; border-radius: 0.35em; vertical-align: middle; margin-left: 0.5rem\">GPE</span>\n",
       "</mark>\n",
       " and \n",
       "<mark class=\"entity\" style=\"background: #feca74; padding: 0.45em 0.6em; margin: 0 0.25em; line-height: 1; border-radius: 0.35em;\">\n",
       "    Mexico\n",
       "    <span style=\"font-size: 0.8em; font-weight: bold; line-height: 1; border-radius: 0.35em; vertical-align: middle; margin-left: 0.5rem\">GPE</span>\n",
       "</mark>\n",
       ". It is a liberal democracy and republic of \n",
       "<mark class=\"entity\" style=\"background: #e4e7d2; padding: 0.45em 0.6em; margin: 0 0.25em; line-height: 1; border-radius: 0.35em;\">\n",
       "    50\n",
       "    <span style=\"font-size: 0.8em; font-weight: bold; line-height: 1; border-radius: 0.35em; vertical-align: middle; margin-left: 0.5rem\">CARDINAL</span>\n",
       "</mark>\n",
       " federated states, a federal capital district (\n",
       "<mark class=\"entity\" style=\"background: #feca74; padding: 0.45em 0.6em; margin: 0 0.25em; line-height: 1; border-radius: 0.35em;\">\n",
       "    Washington\n",
       "    <span style=\"font-size: 0.8em; font-weight: bold; line-height: 1; border-radius: 0.35em; vertical-align: middle; margin-left: 0.5rem\">GPE</span>\n",
       "</mark>\n",
       ", \n",
       "<mark class=\"entity\" style=\"background: #feca74; padding: 0.45em 0.6em; margin: 0 0.25em; line-height: 1; border-radius: 0.35em;\">\n",
       "    D.C.\n",
       "    <span style=\"font-size: 0.8em; font-weight: bold; line-height: 1; border-radius: 0.35em; vertical-align: middle; margin-left: 0.5rem\">GPE</span>\n",
       "</mark>\n",
       "), and \n",
       "<mark class=\"entity\" style=\"background: #e4e7d2; padding: 0.45em 0.6em; margin: 0 0.25em; line-height: 1; border-radius: 0.35em;\">\n",
       "    326\n",
       "    <span style=\"font-size: 0.8em; font-weight: bold; line-height: 1; border-radius: 0.35em; vertical-align: middle; margin-left: 0.5rem\">CARDINAL</span>\n",
       "</mark>\n",
       " \n",
       "<mark class=\"entity\" style=\"background: #c887fb; padding: 0.45em 0.6em; margin: 0 0.25em; line-height: 1; border-radius: 0.35em;\">\n",
       "    Indian\n",
       "    <span style=\"font-size: 0.8em; font-weight: bold; line-height: 1; border-radius: 0.35em; vertical-align: middle; margin-left: 0.5rem\">NORP</span>\n",
       "</mark>\n",
       " reservations that overlap with state boundaries. Outside the union of states, it asserts sovereignty over \n",
       "<mark class=\"entity\" style=\"background: #e4e7d2; padding: 0.45em 0.6em; margin: 0 0.25em; line-height: 1; border-radius: 0.35em;\">\n",
       "    five\n",
       "    <span style=\"font-size: 0.8em; font-weight: bold; line-height: 1; border-radius: 0.35em; vertical-align: middle; margin-left: 0.5rem\">CARDINAL</span>\n",
       "</mark>\n",
       " major unincorporated island territories and various uninhabited islands.[i] The country has the world's \n",
       "<mark class=\"entity\" style=\"background: #e4e7d2; padding: 0.45em 0.6em; margin: 0 0.25em; line-height: 1; border-radius: 0.35em;\">\n",
       "    third\n",
       "    <span style=\"font-size: 0.8em; font-weight: bold; line-height: 1; border-radius: 0.35em; vertical-align: middle; margin-left: 0.5rem\">ORDINAL</span>\n",
       "</mark>\n",
       "-largest land area,[c] largest maritime exclusive economic zone, and the \n",
       "<mark class=\"entity\" style=\"background: #e4e7d2; padding: 0.45em 0.6em; margin: 0 0.25em; line-height: 1; border-radius: 0.35em;\">\n",
       "    third\n",
       "    <span style=\"font-size: 0.8em; font-weight: bold; line-height: 1; border-radius: 0.35em; vertical-align: middle; margin-left: 0.5rem\">ORDINAL</span>\n",
       "</mark>\n",
       "-largest population (over 334 million).[j] The federal government uses a presidential system with \n",
       "<mark class=\"entity\" style=\"background: #e4e7d2; padding: 0.45em 0.6em; margin: 0 0.25em; line-height: 1; border-radius: 0.35em;\">\n",
       "    three\n",
       "    <span style=\"font-size: 0.8em; font-weight: bold; line-height: 1; border-radius: 0.35em; vertical-align: middle; margin-left: 0.5rem\">CARDINAL</span>\n",
       "</mark>\n",
       " separate branches: legislative, executive, and judicial.<br><br>\n",
       "<mark class=\"entity\" style=\"background: #c887fb; padding: 0.45em 0.6em; margin: 0 0.25em; line-height: 1; border-radius: 0.35em;\">\n",
       "    American\n",
       "    <span style=\"font-size: 0.8em; font-weight: bold; line-height: 1; border-radius: 0.35em; vertical-align: middle; margin-left: 0.5rem\">NORP</span>\n",
       "</mark>\n",
       " territory was first settled by \n",
       "<mark class=\"entity\" style=\"background: #c887fb; padding: 0.45em 0.6em; margin: 0 0.25em; line-height: 1; border-radius: 0.35em;\">\n",
       "    Paleo-Indians\n",
       "    <span style=\"font-size: 0.8em; font-weight: bold; line-height: 1; border-radius: 0.35em; vertical-align: middle; margin-left: 0.5rem\">NORP</span>\n",
       "</mark>\n",
       " who migrated across the Bering land bridge over \n",
       "<mark class=\"entity\" style=\"background: #bfe1d9; padding: 0.45em 0.6em; margin: 0 0.25em; line-height: 1; border-radius: 0.35em;\">\n",
       "    12,000 years ago\n",
       "    <span style=\"font-size: 0.8em; font-weight: bold; line-height: 1; border-radius: 0.35em; vertical-align: middle; margin-left: 0.5rem\">DATE</span>\n",
       "</mark>\n",
       ". Colonization by the \n",
       "<mark class=\"entity\" style=\"background: #c887fb; padding: 0.45em 0.6em; margin: 0 0.25em; line-height: 1; border-radius: 0.35em;\">\n",
       "    British\n",
       "    <span style=\"font-size: 0.8em; font-weight: bold; line-height: 1; border-radius: 0.35em; vertical-align: middle; margin-left: 0.5rem\">NORP</span>\n",
       "</mark>\n",
       " began in \n",
       "<mark class=\"entity\" style=\"background: #bfe1d9; padding: 0.45em 0.6em; margin: 0 0.25em; line-height: 1; border-radius: 0.35em;\">\n",
       "    1607\n",
       "    <span style=\"font-size: 0.8em; font-weight: bold; line-height: 1; border-radius: 0.35em; vertical-align: middle; margin-left: 0.5rem\">DATE</span>\n",
       "</mark>\n",
       ". \n",
       "<mark class=\"entity\" style=\"background: #e4e7d2; padding: 0.45em 0.6em; margin: 0 0.25em; line-height: 1; border-radius: 0.35em;\">\n",
       "    Thirteen\n",
       "    <span style=\"font-size: 0.8em; font-weight: bold; line-height: 1; border-radius: 0.35em; vertical-align: middle; margin-left: 0.5rem\">CARDINAL</span>\n",
       "</mark>\n",
       " \n",
       "<mark class=\"entity\" style=\"background: #feca74; padding: 0.45em 0.6em; margin: 0 0.25em; line-height: 1; border-radius: 0.35em;\">\n",
       "    colonies\n",
       "    <span style=\"font-size: 0.8em; font-weight: bold; line-height: 1; border-radius: 0.35em; vertical-align: middle; margin-left: 0.5rem\">GPE</span>\n",
       "</mark>\n",
       " eventually rebelled against the \n",
       "<mark class=\"entity\" style=\"background: #c887fb; padding: 0.45em 0.6em; margin: 0 0.25em; line-height: 1; border-radius: 0.35em;\">\n",
       "    British\n",
       "    <span style=\"font-size: 0.8em; font-weight: bold; line-height: 1; border-radius: 0.35em; vertical-align: middle; margin-left: 0.5rem\">NORP</span>\n",
       "</mark>\n",
       " \n",
       "<mark class=\"entity\" style=\"background: #bfeeb7; padding: 0.45em 0.6em; margin: 0 0.25em; line-height: 1; border-radius: 0.35em;\">\n",
       "    Crown\n",
       "    <span style=\"font-size: 0.8em; font-weight: bold; line-height: 1; border-radius: 0.35em; vertical-align: middle; margin-left: 0.5rem\">PRODUCT</span>\n",
       "</mark>\n",
       " over taxation and political representation, declaring independence on \n",
       "<mark class=\"entity\" style=\"background: #bfe1d9; padding: 0.45em 0.6em; margin: 0 0.25em; line-height: 1; border-radius: 0.35em;\">\n",
       "    July 4, 1776\n",
       "    <span style=\"font-size: 0.8em; font-weight: bold; line-height: 1; border-radius: 0.35em; vertical-align: middle; margin-left: 0.5rem\">DATE</span>\n",
       "</mark>\n",
       ". Their victory in \n",
       "<mark class=\"entity\" style=\"background: #7aecec; padding: 0.45em 0.6em; margin: 0 0.25em; line-height: 1; border-radius: 0.35em;\">\n",
       "    the American Revolutionary War\n",
       "    <span style=\"font-size: 0.8em; font-weight: bold; line-height: 1; border-radius: 0.35em; vertical-align: middle; margin-left: 0.5rem\">ORG</span>\n",
       "</mark>\n",
       " (\n",
       "<mark class=\"entity\" style=\"background: #e4e7d2; padding: 0.45em 0.6em; margin: 0 0.25em; line-height: 1; border-radius: 0.35em;\">\n",
       "    1775â€“83\n",
       "    <span style=\"font-size: 0.8em; font-weight: bold; line-height: 1; border-radius: 0.35em; vertical-align: middle; margin-left: 0.5rem\">CARDINAL</span>\n",
       "</mark>\n",
       ") resulted in a confederation of states before \n",
       "<mark class=\"entity\" style=\"background: #ff8197; padding: 0.45em 0.6em; margin: 0 0.25em; line-height: 1; border-radius: 0.35em;\">\n",
       "    the U.S. Constitution\n",
       "    <span style=\"font-size: 0.8em; font-weight: bold; line-height: 1; border-radius: 0.35em; vertical-align: middle; margin-left: 0.5rem\">LAW</span>\n",
       "</mark>\n",
       " and \n",
       "<mark class=\"entity\" style=\"background: #ff8197; padding: 0.45em 0.6em; margin: 0 0.25em; line-height: 1; border-radius: 0.35em;\">\n",
       "    Bill of Rights\n",
       "    <span style=\"font-size: 0.8em; font-weight: bold; line-height: 1; border-radius: 0.35em; vertical-align: middle; margin-left: 0.5rem\">LAW</span>\n",
       "</mark>\n",
       " were ratified. The young nation continued to acquire neighboring territories and spanned \n",
       "<mark class=\"entity\" style=\"background: #ff9561; padding: 0.45em 0.6em; margin: 0 0.25em; line-height: 1; border-radius: 0.35em;\">\n",
       "    North America\n",
       "    <span style=\"font-size: 0.8em; font-weight: bold; line-height: 1; border-radius: 0.35em; vertical-align: middle; margin-left: 0.5rem\">LOC</span>\n",
       "</mark>\n",
       " by \n",
       "<mark class=\"entity\" style=\"background: #bfe1d9; padding: 0.45em 0.6em; margin: 0 0.25em; line-height: 1; border-radius: 0.35em;\">\n",
       "    the late 1840s\n",
       "    <span style=\"font-size: 0.8em; font-weight: bold; line-height: 1; border-radius: 0.35em; vertical-align: middle; margin-left: 0.5rem\">DATE</span>\n",
       "</mark>\n",
       ". Longstanding disagreements over slavery led to the secession of the southern \n",
       "<mark class=\"entity\" style=\"background: #9cc9cc; padding: 0.45em 0.6em; margin: 0 0.25em; line-height: 1; border-radius: 0.35em;\">\n",
       "    Confederate States of America\n",
       "    <span style=\"font-size: 0.8em; font-weight: bold; line-height: 1; border-radius: 0.35em; vertical-align: middle; margin-left: 0.5rem\">FAC</span>\n",
       "</mark>\n",
       ", which were defeated by the remaining Union in \n",
       "<mark class=\"entity\" style=\"background: #7aecec; padding: 0.45em 0.6em; margin: 0 0.25em; line-height: 1; border-radius: 0.35em;\">\n",
       "    the American Civil War\n",
       "    <span style=\"font-size: 0.8em; font-weight: bold; line-height: 1; border-radius: 0.35em; vertical-align: middle; margin-left: 0.5rem\">ORG</span>\n",
       "</mark>\n",
       " (\n",
       "<mark class=\"entity\" style=\"background: #aa9cfc; padding: 0.45em 0.6em; margin: 0 0.25em; line-height: 1; border-radius: 0.35em;\">\n",
       "    1861â€“65\n",
       "    <span style=\"font-size: 0.8em; font-weight: bold; line-height: 1; border-radius: 0.35em; vertical-align: middle; margin-left: 0.5rem\">PERSON</span>\n",
       "</mark>\n",
       "). Slavery was abolished, but discriminatory laws persisted in the \n",
       "<mark class=\"entity\" style=\"background: #ff9561; padding: 0.45em 0.6em; margin: 0 0.25em; line-height: 1; border-radius: 0.35em;\">\n",
       "    South\n",
       "    <span style=\"font-size: 0.8em; font-weight: bold; line-height: 1; border-radius: 0.35em; vertical-align: middle; margin-left: 0.5rem\">LOC</span>\n",
       "</mark>\n",
       ". By \n",
       "<mark class=\"entity\" style=\"background: #bfe1d9; padding: 0.45em 0.6em; margin: 0 0.25em; line-height: 1; border-radius: 0.35em;\">\n",
       "    1900\n",
       "    <span style=\"font-size: 0.8em; font-weight: bold; line-height: 1; border-radius: 0.35em; vertical-align: middle; margin-left: 0.5rem\">DATE</span>\n",
       "</mark>\n",
       ", rapid industrialization established \n",
       "<mark class=\"entity\" style=\"background: #feca74; padding: 0.45em 0.6em; margin: 0 0.25em; line-height: 1; border-radius: 0.35em;\">\n",
       "    the United States\n",
       "    <span style=\"font-size: 0.8em; font-weight: bold; line-height: 1; border-radius: 0.35em; vertical-align: middle; margin-left: 0.5rem\">GPE</span>\n",
       "</mark>\n",
       " as a great power and the world's largest economy. Following the \n",
       "<mark class=\"entity\" style=\"background: #c887fb; padding: 0.45em 0.6em; margin: 0 0.25em; line-height: 1; border-radius: 0.35em;\">\n",
       "    Japanese\n",
       "    <span style=\"font-size: 0.8em; font-weight: bold; line-height: 1; border-radius: 0.35em; vertical-align: middle; margin-left: 0.5rem\">NORP</span>\n",
       "</mark>\n",
       " attack on \n",
       "<mark class=\"entity\" style=\"background: #9cc9cc; padding: 0.45em 0.6em; margin: 0 0.25em; line-height: 1; border-radius: 0.35em;\">\n",
       "    Pearl Harbor\n",
       "    <span style=\"font-size: 0.8em; font-weight: bold; line-height: 1; border-radius: 0.35em; vertical-align: middle; margin-left: 0.5rem\">FAC</span>\n",
       "</mark>\n",
       " in \n",
       "<mark class=\"entity\" style=\"background: #bfe1d9; padding: 0.45em 0.6em; margin: 0 0.25em; line-height: 1; border-radius: 0.35em;\">\n",
       "    December 1941\n",
       "    <span style=\"font-size: 0.8em; font-weight: bold; line-height: 1; border-radius: 0.35em; vertical-align: middle; margin-left: 0.5rem\">DATE</span>\n",
       "</mark>\n",
       ", \n",
       "<mark class=\"entity\" style=\"background: #feca74; padding: 0.45em 0.6em; margin: 0 0.25em; line-height: 1; border-radius: 0.35em;\">\n",
       "    the United States\n",
       "    <span style=\"font-size: 0.8em; font-weight: bold; line-height: 1; border-radius: 0.35em; vertical-align: middle; margin-left: 0.5rem\">GPE</span>\n",
       "</mark>\n",
       " joined \n",
       "<mark class=\"entity\" style=\"background: #7aecec; padding: 0.45em 0.6em; margin: 0 0.25em; line-height: 1; border-radius: 0.35em;\">\n",
       "    the Allies of World War II\n",
       "    <span style=\"font-size: 0.8em; font-weight: bold; line-height: 1; border-radius: 0.35em; vertical-align: middle; margin-left: 0.5rem\">ORG</span>\n",
       "</mark>\n",
       ". After their victory, it competed against \n",
       "<mark class=\"entity\" style=\"background: #feca74; padding: 0.45em 0.6em; margin: 0 0.25em; line-height: 1; border-radius: 0.35em;\">\n",
       "    the Soviet Union\n",
       "    <span style=\"font-size: 0.8em; font-weight: bold; line-height: 1; border-radius: 0.35em; vertical-align: middle; margin-left: 0.5rem\">GPE</span>\n",
       "</mark>\n",
       " for dominance in nuclear arms, ideology, and international influence during the Space Race and \n",
       "<mark class=\"entity\" style=\"background: #ffeb80; padding: 0.45em 0.6em; margin: 0 0.25em; line-height: 1; border-radius: 0.35em;\">\n",
       "    Cold War\n",
       "    <span style=\"font-size: 0.8em; font-weight: bold; line-height: 1; border-radius: 0.35em; vertical-align: middle; margin-left: 0.5rem\">EVENT</span>\n",
       "</mark>\n",
       ". Many racist practices in the country were overturned in \n",
       "<mark class=\"entity\" style=\"background: #bfe1d9; padding: 0.45em 0.6em; margin: 0 0.25em; line-height: 1; border-radius: 0.35em;\">\n",
       "    the 1960s\n",
       "    <span style=\"font-size: 0.8em; font-weight: bold; line-height: 1; border-radius: 0.35em; vertical-align: middle; margin-left: 0.5rem\">DATE</span>\n",
       "</mark>\n",
       ", and its astronauts became the \n",
       "<mark class=\"entity\" style=\"background: #e4e7d2; padding: 0.45em 0.6em; margin: 0 0.25em; line-height: 1; border-radius: 0.35em;\">\n",
       "    first\n",
       "    <span style=\"font-size: 0.8em; font-weight: bold; line-height: 1; border-radius: 0.35em; vertical-align: middle; margin-left: 0.5rem\">ORDINAL</span>\n",
       "</mark>\n",
       " humans to land on the Moon (\n",
       "<mark class=\"entity\" style=\"background: #bfe1d9; padding: 0.45em 0.6em; margin: 0 0.25em; line-height: 1; border-radius: 0.35em;\">\n",
       "    1969\n",
       "    <span style=\"font-size: 0.8em; font-weight: bold; line-height: 1; border-radius: 0.35em; vertical-align: middle; margin-left: 0.5rem\">DATE</span>\n",
       "</mark>\n",
       "). The nation emerged as the world's sole superpower after the dissolution of \n",
       "<mark class=\"entity\" style=\"background: #feca74; padding: 0.45em 0.6em; margin: 0 0.25em; line-height: 1; border-radius: 0.35em;\">\n",
       "    the Soviet Union\n",
       "    <span style=\"font-size: 0.8em; font-weight: bold; line-height: 1; border-radius: 0.35em; vertical-align: middle; margin-left: 0.5rem\">GPE</span>\n",
       "</mark>\n",
       " (\n",
       "<mark class=\"entity\" style=\"background: #bfe1d9; padding: 0.45em 0.6em; margin: 0 0.25em; line-height: 1; border-radius: 0.35em;\">\n",
       "    1991\n",
       "    <span style=\"font-size: 0.8em; font-weight: bold; line-height: 1; border-radius: 0.35em; vertical-align: middle; margin-left: 0.5rem\">DATE</span>\n",
       "</mark>\n",
       ").<br><br>\n",
       "<mark class=\"entity\" style=\"background: #feca74; padding: 0.45em 0.6em; margin: 0 0.25em; line-height: 1; border-radius: 0.35em;\">\n",
       "    The United States\n",
       "    <span style=\"font-size: 0.8em; font-weight: bold; line-height: 1; border-radius: 0.35em; vertical-align: middle; margin-left: 0.5rem\">GPE</span>\n",
       "</mark>\n",
       " accounts for \n",
       "<mark class=\"entity\" style=\"background: #e4e7d2; padding: 0.45em 0.6em; margin: 0 0.25em; line-height: 1; border-radius: 0.35em;\">\n",
       "    about 25%\n",
       "    <span style=\"font-size: 0.8em; font-weight: bold; line-height: 1; border-radius: 0.35em; vertical-align: middle; margin-left: 0.5rem\">PERCENT</span>\n",
       "</mark>\n",
       " of the world's economy and \n",
       "<mark class=\"entity\" style=\"background: #e4e7d2; padding: 0.45em 0.6em; margin: 0 0.25em; line-height: 1; border-radius: 0.35em;\">\n",
       "    30%\n",
       "    <span style=\"font-size: 0.8em; font-weight: bold; line-height: 1; border-radius: 0.35em; vertical-align: middle; margin-left: 0.5rem\">PERCENT</span>\n",
       "</mark>\n",
       " of its wealth. It has the largest nominal GDP internationally and ranks among the highest in measures of higher education, innovation, and productivity. The country is home to globally important industries in aerospace and defense, automobiles, energy, entertainment, finance, \n",
       "<mark class=\"entity\" style=\"background: #7aecec; padding: 0.45em 0.6em; margin: 0 0.25em; line-height: 1; border-radius: 0.35em;\">\n",
       "    healthcare\n",
       "    <span style=\"font-size: 0.8em; font-weight: bold; line-height: 1; border-radius: 0.35em; vertical-align: middle; margin-left: 0.5rem\">ORG</span>\n",
       "</mark>\n",
       ", and information technology. \n",
       "<mark class=\"entity\" style=\"background: #feca74; padding: 0.45em 0.6em; margin: 0 0.25em; line-height: 1; border-radius: 0.35em;\">\n",
       "    The United States\n",
       "    <span style=\"font-size: 0.8em; font-weight: bold; line-height: 1; border-radius: 0.35em; vertical-align: middle; margin-left: 0.5rem\">GPE</span>\n",
       "</mark>\n",
       " is a founding member of \n",
       "<mark class=\"entity\" style=\"background: #7aecec; padding: 0.45em 0.6em; margin: 0 0.25em; line-height: 1; border-radius: 0.35em;\">\n",
       "    the United Nations\n",
       "    <span style=\"font-size: 0.8em; font-weight: bold; line-height: 1; border-radius: 0.35em; vertical-align: middle; margin-left: 0.5rem\">ORG</span>\n",
       "</mark>\n",
       " (\n",
       "<mark class=\"entity\" style=\"background: #7aecec; padding: 0.45em 0.6em; margin: 0 0.25em; line-height: 1; border-radius: 0.35em;\">\n",
       "    UN\n",
       "    <span style=\"font-size: 0.8em; font-weight: bold; line-height: 1; border-radius: 0.35em; vertical-align: middle; margin-left: 0.5rem\">ORG</span>\n",
       "</mark>\n",
       "), \n",
       "<mark class=\"entity\" style=\"background: #7aecec; padding: 0.45em 0.6em; margin: 0 0.25em; line-height: 1; border-radius: 0.35em;\">\n",
       "    the North Atlantic Treaty Organization\n",
       "    <span style=\"font-size: 0.8em; font-weight: bold; line-height: 1; border-radius: 0.35em; vertical-align: middle; margin-left: 0.5rem\">ORG</span>\n",
       "</mark>\n",
       ", \n",
       "<mark class=\"entity\" style=\"background: #7aecec; padding: 0.45em 0.6em; margin: 0 0.25em; line-height: 1; border-radius: 0.35em;\">\n",
       "    the Organization of American States\n",
       "    <span style=\"font-size: 0.8em; font-weight: bold; line-height: 1; border-radius: 0.35em; vertical-align: middle; margin-left: 0.5rem\">ORG</span>\n",
       "</mark>\n",
       ", \n",
       "<mark class=\"entity\" style=\"background: #7aecec; padding: 0.45em 0.6em; margin: 0 0.25em; line-height: 1; border-radius: 0.35em;\">\n",
       "    the International Monetary Fund\n",
       "    <span style=\"font-size: 0.8em; font-weight: bold; line-height: 1; border-radius: 0.35em; vertical-align: middle; margin-left: 0.5rem\">ORG</span>\n",
       "</mark>\n",
       ", \n",
       "<mark class=\"entity\" style=\"background: #7aecec; padding: 0.45em 0.6em; margin: 0 0.25em; line-height: 1; border-radius: 0.35em;\">\n",
       "    the World Bank\n",
       "    <span style=\"font-size: 0.8em; font-weight: bold; line-height: 1; border-radius: 0.35em; vertical-align: middle; margin-left: 0.5rem\">ORG</span>\n",
       "</mark>\n",
       ", \n",
       "<mark class=\"entity\" style=\"background: #7aecec; padding: 0.45em 0.6em; margin: 0 0.25em; line-height: 1; border-radius: 0.35em;\">\n",
       "    the World Trade Organization\n",
       "    <span style=\"font-size: 0.8em; font-weight: bold; line-height: 1; border-radius: 0.35em; vertical-align: middle; margin-left: 0.5rem\">ORG</span>\n",
       "</mark>\n",
       ", and is a permanent member of \n",
       "<mark class=\"entity\" style=\"background: #7aecec; padding: 0.45em 0.6em; margin: 0 0.25em; line-height: 1; border-radius: 0.35em;\">\n",
       "    the UN Security Council\n",
       "    <span style=\"font-size: 0.8em; font-weight: bold; line-height: 1; border-radius: 0.35em; vertical-align: middle; margin-left: 0.5rem\">ORG</span>\n",
       "</mark>\n",
       ".</div></span>"
      ],
      "text/plain": [
       "<IPython.core.display.HTML object>"
      ]
     },
     "metadata": {},
     "output_type": "display_data"
    }
   ],
   "source": [
    "displacy.render(doc, style='ent')"
   ]
  },
  {
   "cell_type": "markdown",
   "metadata": {},
   "source": [
    "# Vectorization"
   ]
  },
  {
   "cell_type": "code",
   "execution_count": 52,
   "metadata": {},
   "outputs": [
    {
     "name": "stdout",
     "output_type": "stream",
     "text": [
      "Collecting en-core-web-md==3.7.1\n",
      "  Downloading https://github.com/explosion/spacy-models/releases/download/en_core_web_md-3.7.1/en_core_web_md-3.7.1-py3-none-any.whl (42.8 MB)\n",
      "     ---------------------------------------- 0.0/42.8 MB ? eta -:--:--\n",
      "     ---------------------------------------- 0.4/42.8 MB 11.5 MB/s eta 0:00:04\n",
      "      --------------------------------------- 1.0/42.8 MB 13.0 MB/s eta 0:00:04\n",
      "     - -------------------------------------- 1.6/42.8 MB 14.5 MB/s eta 0:00:03\n",
      "     -- ------------------------------------- 2.4/42.8 MB 14.1 MB/s eta 0:00:03\n",
      "     --- ------------------------------------ 3.6/42.8 MB 16.5 MB/s eta 0:00:03\n",
      "     ---- ----------------------------------- 4.9/42.8 MB 18.5 MB/s eta 0:00:03\n",
      "     ----- ---------------------------------- 6.1/42.8 MB 19.3 MB/s eta 0:00:02\n",
      "     ------- -------------------------------- 7.7/42.8 MB 21.4 MB/s eta 0:00:02\n",
      "     -------- ------------------------------- 9.0/42.8 MB 22.0 MB/s eta 0:00:02\n",
      "     --------- ----------------------------- 10.1/42.8 MB 22.2 MB/s eta 0:00:02\n",
      "     ---------- ---------------------------- 11.4/42.8 MB 25.2 MB/s eta 0:00:02\n",
      "     ----------- --------------------------- 12.5/42.8 MB 27.3 MB/s eta 0:00:02\n",
      "     ------------ -------------------------- 13.8/42.8 MB 27.3 MB/s eta 0:00:02\n",
      "     ------------- ------------------------- 14.9/42.8 MB 27.3 MB/s eta 0:00:02\n",
      "     -------------- ------------------------ 16.0/42.8 MB 26.2 MB/s eta 0:00:02\n",
      "     --------------- ----------------------- 17.4/42.8 MB 26.2 MB/s eta 0:00:01\n",
      "     ----------------- --------------------- 18.8/42.8 MB 27.3 MB/s eta 0:00:01\n",
      "     ------------------ -------------------- 20.1/42.8 MB 26.2 MB/s eta 0:00:01\n",
      "     ------------------- ------------------- 21.5/42.8 MB 27.3 MB/s eta 0:00:01\n",
      "     -------------------- ------------------ 22.8/42.8 MB 27.3 MB/s eta 0:00:01\n",
      "     --------------------- ----------------- 24.0/42.8 MB 27.3 MB/s eta 0:00:01\n",
      "     ---------------------- ---------------- 25.2/42.8 MB 28.5 MB/s eta 0:00:01\n",
      "     ------------------------ -------------- 26.5/42.8 MB 28.5 MB/s eta 0:00:01\n",
      "     ------------------------- ------------- 27.9/42.8 MB 28.4 MB/s eta 0:00:01\n",
      "     -------------------------- ------------ 29.0/42.8 MB 27.3 MB/s eta 0:00:01\n",
      "     --------------------------- ----------- 30.2/42.8 MB 27.3 MB/s eta 0:00:01\n",
      "     ---------------------------- ---------- 31.2/42.8 MB 26.2 MB/s eta 0:00:01\n",
      "     ----------------------------- --------- 32.3/42.8 MB 26.2 MB/s eta 0:00:01\n",
      "     ------------------------------ -------- 33.4/42.8 MB 25.2 MB/s eta 0:00:01\n",
      "     ------------------------------- ------- 34.4/42.8 MB 25.2 MB/s eta 0:00:01\n",
      "     -------------------------------- ------ 35.5/42.8 MB 25.2 MB/s eta 0:00:01\n",
      "     --------------------------------- ----- 36.6/42.8 MB 24.2 MB/s eta 0:00:01\n",
      "     ---------------------------------- ---- 37.5/42.8 MB 24.2 MB/s eta 0:00:01\n",
      "     ---------------------------------- ---- 38.4/42.8 MB 23.4 MB/s eta 0:00:01\n",
      "     ----------------------------------- --- 39.4/42.8 MB 22.6 MB/s eta 0:00:01\n",
      "     ------------------------------------- - 40.6/42.8 MB 22.6 MB/s eta 0:00:01\n",
      "     --------------------------------------  41.8/42.8 MB 23.4 MB/s eta 0:00:01\n",
      "     --------------------------------------  42.8/42.8 MB 23.4 MB/s eta 0:00:01\n",
      "     --------------------------------------  42.8/42.8 MB 23.4 MB/s eta 0:00:01\n",
      "     --------------------------------------  42.8/42.8 MB 23.4 MB/s eta 0:00:01\n",
      "     --------------------------------------  42.8/42.8 MB 23.4 MB/s eta 0:00:01\n",
      "     --------------------------------------  42.8/42.8 MB 23.4 MB/s eta 0:00:01\n",
      "     --------------------------------------  42.8/42.8 MB 23.4 MB/s eta 0:00:01\n",
      "     --------------------------------------  42.8/42.8 MB 23.4 MB/s eta 0:00:01\n",
      "     --------------------------------------  42.8/42.8 MB 23.4 MB/s eta 0:00:01\n",
      "     --------------------------------------  42.8/42.8 MB 23.4 MB/s eta 0:00:01\n",
      "     --------------------------------------  42.8/42.8 MB 23.4 MB/s eta 0:00:01\n",
      "     --------------------------------------  42.8/42.8 MB 23.4 MB/s eta 0:00:01\n",
      "     --------------------------------------  42.8/42.8 MB 23.4 MB/s eta 0:00:01\n",
      "     --------------------------------------  42.8/42.8 MB 23.4 MB/s eta 0:00:01\n",
      "     --------------------------------------  42.8/42.8 MB 23.4 MB/s eta 0:00:01\n",
      "     --------------------------------------  42.8/42.8 MB 23.4 MB/s eta 0:00:01\n",
      "     --------------------------------------  42.8/42.8 MB 23.4 MB/s eta 0:00:01\n",
      "     --------------------------------------  42.8/42.8 MB 23.4 MB/s eta 0:00:01\n",
      "     --------------------------------------  42.8/42.8 MB 23.4 MB/s eta 0:00:01\n",
      "     --------------------------------------  42.8/42.8 MB 23.4 MB/s eta 0:00:01\n",
      "     --------------------------------------  42.8/42.8 MB 23.4 MB/s eta 0:00:01\n",
      "     --------------------------------------  42.8/42.8 MB 23.4 MB/s eta 0:00:01\n",
      "     --------------------------------------  42.8/42.8 MB 23.4 MB/s eta 0:00:01\n",
      "     --------------------------------------  42.8/42.8 MB 23.4 MB/s eta 0:00:01\n",
      "     --------------------------------------  42.8/42.8 MB 23.4 MB/s eta 0:00:01\n",
      "     --------------------------------------  42.8/42.8 MB 23.4 MB/s eta 0:00:01\n",
      "     --------------------------------------  42.8/42.8 MB 23.4 MB/s eta 0:00:01\n",
      "     --------------------------------------  42.8/42.8 MB 23.4 MB/s eta 0:00:01\n",
      "     --------------------------------------  42.8/42.8 MB 23.4 MB/s eta 0:00:01\n",
      "     ---------------------------------------- 42.8/42.8 MB 6.0 MB/s eta 0:00:00\n",
      "Requirement already satisfied: spacy<3.8.0,>=3.7.2 in c:\\users\\ayush\\desktop\\study\\big oh training\\big oh training\\big-oh-training\\.venv\\lib\\site-packages (from en-core-web-md==3.7.1) (3.7.4)\n",
      "Requirement already satisfied: spacy-legacy<3.1.0,>=3.0.11 in c:\\users\\ayush\\desktop\\study\\big oh training\\big oh training\\big-oh-training\\.venv\\lib\\site-packages (from spacy<3.8.0,>=3.7.2->en-core-web-md==3.7.1) (3.0.12)\n",
      "Requirement already satisfied: spacy-loggers<2.0.0,>=1.0.0 in c:\\users\\ayush\\desktop\\study\\big oh training\\big oh training\\big-oh-training\\.venv\\lib\\site-packages (from spacy<3.8.0,>=3.7.2->en-core-web-md==3.7.1) (1.0.5)\n",
      "Requirement already satisfied: murmurhash<1.1.0,>=0.28.0 in c:\\users\\ayush\\desktop\\study\\big oh training\\big oh training\\big-oh-training\\.venv\\lib\\site-packages (from spacy<3.8.0,>=3.7.2->en-core-web-md==3.7.1) (1.0.10)\n",
      "Requirement already satisfied: cymem<2.1.0,>=2.0.2 in c:\\users\\ayush\\desktop\\study\\big oh training\\big oh training\\big-oh-training\\.venv\\lib\\site-packages (from spacy<3.8.0,>=3.7.2->en-core-web-md==3.7.1) (2.0.8)\n",
      "Requirement already satisfied: preshed<3.1.0,>=3.0.2 in c:\\users\\ayush\\desktop\\study\\big oh training\\big oh training\\big-oh-training\\.venv\\lib\\site-packages (from spacy<3.8.0,>=3.7.2->en-core-web-md==3.7.1) (3.0.9)\n",
      "Requirement already satisfied: thinc<8.3.0,>=8.2.2 in c:\\users\\ayush\\desktop\\study\\big oh training\\big oh training\\big-oh-training\\.venv\\lib\\site-packages (from spacy<3.8.0,>=3.7.2->en-core-web-md==3.7.1) (8.2.3)\n",
      "Requirement already satisfied: wasabi<1.2.0,>=0.9.1 in c:\\users\\ayush\\desktop\\study\\big oh training\\big oh training\\big-oh-training\\.venv\\lib\\site-packages (from spacy<3.8.0,>=3.7.2->en-core-web-md==3.7.1) (1.1.2)\n",
      "Requirement already satisfied: srsly<3.0.0,>=2.4.3 in c:\\users\\ayush\\desktop\\study\\big oh training\\big oh training\\big-oh-training\\.venv\\lib\\site-packages (from spacy<3.8.0,>=3.7.2->en-core-web-md==3.7.1) (2.4.8)\n",
      "Requirement already satisfied: catalogue<2.1.0,>=2.0.6 in c:\\users\\ayush\\desktop\\study\\big oh training\\big oh training\\big-oh-training\\.venv\\lib\\site-packages (from spacy<3.8.0,>=3.7.2->en-core-web-md==3.7.1) (2.0.10)\n",
      "Requirement already satisfied: weasel<0.4.0,>=0.1.0 in c:\\users\\ayush\\desktop\\study\\big oh training\\big oh training\\big-oh-training\\.venv\\lib\\site-packages (from spacy<3.8.0,>=3.7.2->en-core-web-md==3.7.1) (0.3.4)\n",
      "Requirement already satisfied: typer<0.10.0,>=0.3.0 in c:\\users\\ayush\\desktop\\study\\big oh training\\big oh training\\big-oh-training\\.venv\\lib\\site-packages (from spacy<3.8.0,>=3.7.2->en-core-web-md==3.7.1) (0.9.0)\n",
      "Requirement already satisfied: smart-open<7.0.0,>=5.2.1 in c:\\users\\ayush\\desktop\\study\\big oh training\\big oh training\\big-oh-training\\.venv\\lib\\site-packages (from spacy<3.8.0,>=3.7.2->en-core-web-md==3.7.1) (6.4.0)\n",
      "Requirement already satisfied: tqdm<5.0.0,>=4.38.0 in c:\\users\\ayush\\desktop\\study\\big oh training\\big oh training\\big-oh-training\\.venv\\lib\\site-packages (from spacy<3.8.0,>=3.7.2->en-core-web-md==3.7.1) (4.66.2)\n",
      "Requirement already satisfied: requests<3.0.0,>=2.13.0 in c:\\users\\ayush\\desktop\\study\\big oh training\\big oh training\\big-oh-training\\.venv\\lib\\site-packages (from spacy<3.8.0,>=3.7.2->en-core-web-md==3.7.1) (2.31.0)\n",
      "Requirement already satisfied: pydantic!=1.8,!=1.8.1,<3.0.0,>=1.7.4 in c:\\users\\ayush\\desktop\\study\\big oh training\\big oh training\\big-oh-training\\.venv\\lib\\site-packages (from spacy<3.8.0,>=3.7.2->en-core-web-md==3.7.1) (2.6.1)\n",
      "Requirement already satisfied: jinja2 in c:\\users\\ayush\\desktop\\study\\big oh training\\big oh training\\big-oh-training\\.venv\\lib\\site-packages (from spacy<3.8.0,>=3.7.2->en-core-web-md==3.7.1) (3.1.3)\n",
      "Requirement already satisfied: setuptools in c:\\users\\ayush\\desktop\\study\\big oh training\\big oh training\\big-oh-training\\.venv\\lib\\site-packages (from spacy<3.8.0,>=3.7.2->en-core-web-md==3.7.1) (65.5.0)\n",
      "Requirement already satisfied: packaging>=20.0 in c:\\users\\ayush\\desktop\\study\\big oh training\\big oh training\\big-oh-training\\.venv\\lib\\site-packages (from spacy<3.8.0,>=3.7.2->en-core-web-md==3.7.1) (23.2)\n",
      "Requirement already satisfied: langcodes<4.0.0,>=3.2.0 in c:\\users\\ayush\\desktop\\study\\big oh training\\big oh training\\big-oh-training\\.venv\\lib\\site-packages (from spacy<3.8.0,>=3.7.2->en-core-web-md==3.7.1) (3.3.0)\n",
      "Requirement already satisfied: numpy>=1.19.0 in c:\\users\\ayush\\desktop\\study\\big oh training\\big oh training\\big-oh-training\\.venv\\lib\\site-packages (from spacy<3.8.0,>=3.7.2->en-core-web-md==3.7.1) (1.26.4)\n",
      "Requirement already satisfied: annotated-types>=0.4.0 in c:\\users\\ayush\\desktop\\study\\big oh training\\big oh training\\big-oh-training\\.venv\\lib\\site-packages (from pydantic!=1.8,!=1.8.1,<3.0.0,>=1.7.4->spacy<3.8.0,>=3.7.2->en-core-web-md==3.7.1) (0.6.0)\n",
      "Requirement already satisfied: pydantic-core==2.16.2 in c:\\users\\ayush\\desktop\\study\\big oh training\\big oh training\\big-oh-training\\.venv\\lib\\site-packages (from pydantic!=1.8,!=1.8.1,<3.0.0,>=1.7.4->spacy<3.8.0,>=3.7.2->en-core-web-md==3.7.1) (2.16.2)\n",
      "Requirement already satisfied: typing-extensions>=4.6.1 in c:\\users\\ayush\\desktop\\study\\big oh training\\big oh training\\big-oh-training\\.venv\\lib\\site-packages (from pydantic!=1.8,!=1.8.1,<3.0.0,>=1.7.4->spacy<3.8.0,>=3.7.2->en-core-web-md==3.7.1) (4.9.0)\n",
      "Requirement already satisfied: charset-normalizer<4,>=2 in c:\\users\\ayush\\desktop\\study\\big oh training\\big oh training\\big-oh-training\\.venv\\lib\\site-packages (from requests<3.0.0,>=2.13.0->spacy<3.8.0,>=3.7.2->en-core-web-md==3.7.1) (3.3.2)\n",
      "Requirement already satisfied: idna<4,>=2.5 in c:\\users\\ayush\\desktop\\study\\big oh training\\big oh training\\big-oh-training\\.venv\\lib\\site-packages (from requests<3.0.0,>=2.13.0->spacy<3.8.0,>=3.7.2->en-core-web-md==3.7.1) (3.6)\n",
      "Requirement already satisfied: urllib3<3,>=1.21.1 in c:\\users\\ayush\\desktop\\study\\big oh training\\big oh training\\big-oh-training\\.venv\\lib\\site-packages (from requests<3.0.0,>=2.13.0->spacy<3.8.0,>=3.7.2->en-core-web-md==3.7.1) (2.2.0)\n",
      "Requirement already satisfied: certifi>=2017.4.17 in c:\\users\\ayush\\desktop\\study\\big oh training\\big oh training\\big-oh-training\\.venv\\lib\\site-packages (from requests<3.0.0,>=2.13.0->spacy<3.8.0,>=3.7.2->en-core-web-md==3.7.1) (2024.2.2)\n",
      "Requirement already satisfied: blis<0.8.0,>=0.7.8 in c:\\users\\ayush\\desktop\\study\\big oh training\\big oh training\\big-oh-training\\.venv\\lib\\site-packages (from thinc<8.3.0,>=8.2.2->spacy<3.8.0,>=3.7.2->en-core-web-md==3.7.1) (0.7.11)\n",
      "Requirement already satisfied: confection<1.0.0,>=0.0.1 in c:\\users\\ayush\\desktop\\study\\big oh training\\big oh training\\big-oh-training\\.venv\\lib\\site-packages (from thinc<8.3.0,>=8.2.2->spacy<3.8.0,>=3.7.2->en-core-web-md==3.7.1) (0.1.4)\n",
      "Requirement already satisfied: colorama in c:\\users\\ayush\\desktop\\study\\big oh training\\big oh training\\big-oh-training\\.venv\\lib\\site-packages (from tqdm<5.0.0,>=4.38.0->spacy<3.8.0,>=3.7.2->en-core-web-md==3.7.1) (0.4.6)\n",
      "Requirement already satisfied: click<9.0.0,>=7.1.1 in c:\\users\\ayush\\desktop\\study\\big oh training\\big oh training\\big-oh-training\\.venv\\lib\\site-packages (from typer<0.10.0,>=0.3.0->spacy<3.8.0,>=3.7.2->en-core-web-md==3.7.1) (8.1.7)\n",
      "Requirement already satisfied: cloudpathlib<0.17.0,>=0.7.0 in c:\\users\\ayush\\desktop\\study\\big oh training\\big oh training\\big-oh-training\\.venv\\lib\\site-packages (from weasel<0.4.0,>=0.1.0->spacy<3.8.0,>=3.7.2->en-core-web-md==3.7.1) (0.16.0)\n",
      "Requirement already satisfied: MarkupSafe>=2.0 in c:\\users\\ayush\\desktop\\study\\big oh training\\big oh training\\big-oh-training\\.venv\\lib\\site-packages (from jinja2->spacy<3.8.0,>=3.7.2->en-core-web-md==3.7.1) (2.1.5)\n",
      "\u001b[38;5;2m✔ Download and installation successful\u001b[0m\n",
      "You can now load the package via spacy.load('en_core_web_md')\n"
     ]
    }
   ],
   "source": [
    "!python -m spacy download en_core_web_md"
   ]
  },
  {
   "cell_type": "code",
   "execution_count": 53,
   "metadata": {},
   "outputs": [],
   "source": [
    "nlp = spacy.load(\"en_core_web_md\")"
   ]
  },
  {
   "cell_type": "code",
   "execution_count": 54,
   "metadata": {},
   "outputs": [],
   "source": [
    "with open(\"wiki_us.txt\") as f:\n",
    "    text = f.read()"
   ]
  },
  {
   "cell_type": "code",
   "execution_count": 55,
   "metadata": {},
   "outputs": [],
   "source": [
    "doc = nlp(text)\n",
    "sentence1 = list(doc.sents)[0]"
   ]
  },
  {
   "cell_type": "code",
   "execution_count": 56,
   "metadata": {},
   "outputs": [
    {
     "data": {
      "text/plain": [
       "The United States of America (USA or U.S.A.), commonly known as the United States (US or U.S.) or America, is a country primarily located in North America, between Canada and Mexico."
      ]
     },
     "execution_count": 56,
     "metadata": {},
     "output_type": "execute_result"
    }
   ],
   "source": [
    "sentence1"
   ]
  },
  {
   "cell_type": "code",
   "execution_count": 57,
   "metadata": {},
   "outputs": [],
   "source": [
    "import numpy as np"
   ]
  },
  {
   "cell_type": "code",
   "execution_count": 68,
   "metadata": {},
   "outputs": [
    {
     "name": "stdout",
     "output_type": "stream",
     "text": [
      "countries-\n",
      "(array([[12389239844680878404,  1435501296278296988,  3205366385982613224,\n",
      "        10101261077591962824, 10067128433980916117, 13467190378500458811,\n",
      "         7523086094447079607,  4411440909759659592,  3830018849180425586,\n",
      "          769100778973147158, 18338524620243354716, 14054530209306062929,\n",
      "         9963619298135866351, 11690071685857988995,  8648425499597969942,\n",
      "          517756148964395048, 13871206545950615543,  7218439593115370081,\n",
      "         8250815350809106950,  8894113698708579519,  6568476719189785200,\n",
      "         9681034000845995874, 15216181236966597624,  7262134114270024693,\n",
      "         3355786532102014173, 14007068085091933486,  7518795552862739247,\n",
      "         1233272411078280387,  1337586940004706779,  8093165346768774328]],\n",
      "      dtype=uint64), array([[  351,  1831,   919,  8453,  4341, 10117,  1955, 14035,   984,\n",
      "        17926,  9098,   206,  1741,  7222,   271, 13997,  1017, 15427,\n",
      "         3103,  4253,  8658, 16505,  1071, 13458, 13686, 13245,  3377,\n",
      "         8166, 11761,  3267]], dtype=int32), array([[1.    , 0.8009, 0.7833, 0.773 , 0.7341, 0.712 , 0.6996, 0.6951,\n",
      "        0.6934, 0.6924, 0.6872, 0.6857, 0.6759, 0.6752, 0.6733, 0.6718,\n",
      "        0.6702, 0.6662, 0.6648, 0.662 , 0.6591, 0.6582, 0.6572, 0.655 ,\n",
      "        0.6512, 0.6497, 0.6489, 0.6488, 0.6471, 0.645 ]], dtype=float32))\n",
      "['country—0,467', 'nationâ\\x80\\x99s', 'countries-', 'continente', 'Carnations', 'pastille', 'бесплатно', 'Argents', 'Tywysogion', 'Teeters', 'Sabally', 'world&rsquo', 'virginities', 'regidores', 'Patate', 'Hjelmeland', 'oleuropein', 'cofinality', 'Microregions', 'internments', 'evinces', 'Rhodospirillales', 'statelets', 'Caymanians', 'republika', 'barbarities', 'terris', 'Globally', 'continentals', 'Ovince']\n"
     ]
    }
   ],
   "source": [
    "your_word = \"country\"\n",
    "print(nlp.vocab.strings[3205366385982613224])\n",
    "ms = nlp.vocab.vectors.most_similar(np.array([nlp.vocab.vectors[nlp.vocab.strings[your_word]]]), n =30)\n",
    "print(ms)\n",
    "words = [nlp.vocab.strings[w] for w in ms[0][0]]\n",
    "distances = ms[2]\n",
    "print(words)"
   ]
  },
  {
   "cell_type": "code",
   "execution_count": 75,
   "metadata": {},
   "outputs": [
    {
     "name": "stdout",
     "output_type": "stream",
     "text": [
      "I like salty fries and hamburgers. <--> Fast foods tastes very good. 0.6976813680581782\n"
     ]
    }
   ],
   "source": [
    "doc1 = nlp(\"I like salty fries and hamburgers.\")\n",
    "doc2 = nlp(\"Fast foods tastes very good.\")\n",
    "print(doc1,\"<-->\",doc2,doc1.similarity(doc2))"
   ]
  },
  {
   "cell_type": "code",
   "execution_count": 76,
   "metadata": {},
   "outputs": [
    {
     "name": "stdout",
     "output_type": "stream",
     "text": [
      "I enjoy oranges. <--> I enjoy apples. 0.9775702131220241\n"
     ]
    }
   ],
   "source": [
    "doc3= nlp(\"I enjoy oranges.\")\n",
    "doc4 = nlp(\"I enjoy apples.\")\n",
    "print(doc3,\"<-->\",doc4,doc3.similarity(doc4))"
   ]
  },
  {
   "cell_type": "markdown",
   "metadata": {},
   "source": [
    "# pipelines"
   ]
  },
  {
   "cell_type": "code",
   "execution_count": 2,
   "metadata": {},
   "outputs": [],
   "source": [
    "import spacy\n",
    "nlp = spacy.blank(\"en\")"
   ]
  },
  {
   "cell_type": "code",
   "execution_count": 3,
   "metadata": {},
   "outputs": [
    {
     "data": {
      "text/plain": [
       "<spacy.pipeline.sentencizer.Sentencizer at 0x1d4c6463f90>"
      ]
     },
     "execution_count": 3,
     "metadata": {},
     "output_type": "execute_result"
    }
   ],
   "source": [
    "nlp.add_pipe(\"sentencizer\")"
   ]
  },
  {
   "cell_type": "code",
   "execution_count": 4,
   "metadata": {},
   "outputs": [
    {
     "data": {
      "text/plain": [
       "{'summary': {'sentencizer': {'assigns': ['token.is_sent_start', 'doc.sents'],\n",
       "   'requires': [],\n",
       "   'scores': ['sents_f', 'sents_p', 'sents_r'],\n",
       "   'retokenizes': False}},\n",
       " 'problems': {'sentencizer': []},\n",
       " 'attrs': {'token.is_sent_start': {'assigns': ['sentencizer'], 'requires': []},\n",
       "  'doc.sents': {'assigns': ['sentencizer'], 'requires': []}}}"
      ]
     },
     "execution_count": 4,
     "metadata": {},
     "output_type": "execute_result"
    }
   ],
   "source": [
    "nlp.analyze_pipes()"
   ]
  },
  {
   "cell_type": "markdown",
   "metadata": {},
   "source": [
    "### Name entity ruler"
   ]
  },
  {
   "cell_type": "code",
   "execution_count": 12,
   "metadata": {},
   "outputs": [],
   "source": [
    "nlp = spacy.load(\"en_core_web_sm\")\n",
    "text = \"West Chestertenfieldville was referenced in Mr. Deeds.\"\n"
   ]
  },
  {
   "cell_type": "code",
   "execution_count": 13,
   "metadata": {},
   "outputs": [],
   "source": [
    "doc = nlp(text)"
   ]
  },
  {
   "cell_type": "code",
   "execution_count": 14,
   "metadata": {},
   "outputs": [
    {
     "name": "stdout",
     "output_type": "stream",
     "text": [
      "West Chestertenfieldville GPE\n",
      "Deeds PERSON\n"
     ]
    }
   ],
   "source": [
    "for ent in doc.ents:\n",
    "    print(ent.text, ent.label_)"
   ]
  },
  {
   "cell_type": "code",
   "execution_count": 15,
   "metadata": {},
   "outputs": [],
   "source": [
    "ruler= nlp.add_pipe(\"entity_ruler\")"
   ]
  },
  {
   "cell_type": "code",
   "execution_count": 16,
   "metadata": {},
   "outputs": [
    {
     "data": {
      "text/plain": [
       "{'summary': {'tok2vec': {'assigns': ['doc.tensor'],\n",
       "   'requires': [],\n",
       "   'scores': [],\n",
       "   'retokenizes': False},\n",
       "  'tagger': {'assigns': ['token.tag'],\n",
       "   'requires': [],\n",
       "   'scores': ['tag_acc'],\n",
       "   'retokenizes': False},\n",
       "  'parser': {'assigns': ['token.dep',\n",
       "    'token.head',\n",
       "    'token.is_sent_start',\n",
       "    'doc.sents'],\n",
       "   'requires': [],\n",
       "   'scores': ['dep_uas',\n",
       "    'dep_las',\n",
       "    'dep_las_per_type',\n",
       "    'sents_p',\n",
       "    'sents_r',\n",
       "    'sents_f'],\n",
       "   'retokenizes': False},\n",
       "  'attribute_ruler': {'assigns': [],\n",
       "   'requires': [],\n",
       "   'scores': [],\n",
       "   'retokenizes': False},\n",
       "  'lemmatizer': {'assigns': ['token.lemma'],\n",
       "   'requires': [],\n",
       "   'scores': ['lemma_acc'],\n",
       "   'retokenizes': False},\n",
       "  'ner': {'assigns': ['doc.ents', 'token.ent_iob', 'token.ent_type'],\n",
       "   'requires': [],\n",
       "   'scores': ['ents_f', 'ents_p', 'ents_r', 'ents_per_type'],\n",
       "   'retokenizes': False},\n",
       "  'entity_ruler': {'assigns': ['doc.ents', 'token.ent_type', 'token.ent_iob'],\n",
       "   'requires': [],\n",
       "   'scores': ['ents_f', 'ents_p', 'ents_r', 'ents_per_type'],\n",
       "   'retokenizes': False}},\n",
       " 'problems': {'tok2vec': [],\n",
       "  'tagger': [],\n",
       "  'parser': [],\n",
       "  'attribute_ruler': [],\n",
       "  'lemmatizer': [],\n",
       "  'ner': [],\n",
       "  'entity_ruler': []},\n",
       " 'attrs': {'doc.ents': {'assigns': ['ner', 'entity_ruler'], 'requires': []},\n",
       "  'token.lemma': {'assigns': ['lemmatizer'], 'requires': []},\n",
       "  'token.head': {'assigns': ['parser'], 'requires': []},\n",
       "  'token.is_sent_start': {'assigns': ['parser'], 'requires': []},\n",
       "  'doc.tensor': {'assigns': ['tok2vec'], 'requires': []},\n",
       "  'token.ent_type': {'assigns': ['ner', 'entity_ruler'], 'requires': []},\n",
       "  'token.tag': {'assigns': ['tagger'], 'requires': []},\n",
       "  'token.dep': {'assigns': ['parser'], 'requires': []},\n",
       "  'token.ent_iob': {'assigns': ['ner', 'entity_ruler'], 'requires': []},\n",
       "  'doc.sents': {'assigns': ['parser'], 'requires': []}}}"
      ]
     },
     "execution_count": 16,
     "metadata": {},
     "output_type": "execute_result"
    }
   ],
   "source": [
    "nlp.analyze_pipes()"
   ]
  },
  {
   "cell_type": "code",
   "execution_count": 26,
   "metadata": {},
   "outputs": [],
   "source": [
    "patterns = [{\"label\":\"Fantasy\", \"pattern\":\"West Chestertenfieldville\"}, {\n",
    "    \"label\":\"FILM\", \"pattern\":\"Mr. Deeds\"\n",
    "}]\n"
   ]
  },
  {
   "cell_type": "code",
   "execution_count": 20,
   "metadata": {},
   "outputs": [],
   "source": [
    "ruler.add_patterns(patterns)"
   ]
  },
  {
   "cell_type": "code",
   "execution_count": 21,
   "metadata": {},
   "outputs": [
    {
     "name": "stdout",
     "output_type": "stream",
     "text": [
      "West Chestertenfieldville GPE\n",
      "Deeds PERSON\n"
     ]
    }
   ],
   "source": [
    "doc2 = nlp(text)\n",
    "for ent in doc2.ents:\n",
    "    print(ent.text, ent.label_)"
   ]
  },
  {
   "cell_type": "code",
   "execution_count": 27,
   "metadata": {},
   "outputs": [],
   "source": [
    "nlp2= spacy.load(\"en_core_web_sm\")"
   ]
  },
  {
   "cell_type": "code",
   "execution_count": 28,
   "metadata": {},
   "outputs": [],
   "source": [
    "ruler = nlp2.add_pipe(\"entity_ruler\", before=\"ner\")"
   ]
  },
  {
   "cell_type": "code",
   "execution_count": 29,
   "metadata": {},
   "outputs": [],
   "source": [
    "ruler.add_patterns(patterns)"
   ]
  },
  {
   "cell_type": "code",
   "execution_count": 30,
   "metadata": {},
   "outputs": [
    {
     "name": "stdout",
     "output_type": "stream",
     "text": [
      "West Chestertenfieldville Fantasy\n",
      "Mr. Deeds FILM\n"
     ]
    }
   ],
   "source": [
    "doc2 = nlp2(text)\n",
    "for ent in doc2.ents:\n",
    "    print(ent.text, ent.label_)"
   ]
  },
  {
   "cell_type": "code",
   "execution_count": 31,
   "metadata": {},
   "outputs": [],
   "source": [
    "from spacy.matcher import Matcher"
   ]
  },
  {
   "cell_type": "code",
   "execution_count": 34,
   "metadata": {},
   "outputs": [],
   "source": [
    "nlp = spacy.load(\"en_core_web_sm\")"
   ]
  },
  {
   "cell_type": "code",
   "execution_count": 39,
   "metadata": {},
   "outputs": [],
   "source": [
    "matcher = Matcher(nlp.vocab)\n",
    "patterns = [{\"LIKE_EMAIL\": True}]\n",
    "matcher.add(\"EMAIL_ADDRESS\" ,[patterns])"
   ]
  },
  {
   "cell_type": "code",
   "execution_count": 50,
   "metadata": {},
   "outputs": [
    {
     "name": "stdout",
     "output_type": "stream",
     "text": [
      "[(16571425990740197027, 3, 4)]\n"
     ]
    }
   ],
   "source": [
    "text = \"ayush email is ayushrawat324@mail.com.\"\n",
    "doc = nlp(text)\n",
    "matches = matcher(doc)\n",
    "print(matches) # index 0 is lexeme"
   ]
  },
  {
   "cell_type": "code",
   "execution_count": 51,
   "metadata": {},
   "outputs": [
    {
     "name": "stdout",
     "output_type": "stream",
     "text": [
      "EMAIL_ADDRESS\n"
     ]
    }
   ],
   "source": [
    "print(nlp.vocab[matches[0][0]].text)"
   ]
  },
  {
   "cell_type": "code",
   "execution_count": 52,
   "metadata": {},
   "outputs": [],
   "source": [
    "with open(\"mlk_wiki.txt\") as f:\n",
    "    text = f.read()\n",
    "    "
   ]
  },
  {
   "cell_type": "code",
   "execution_count": 55,
   "metadata": {},
   "outputs": [],
   "source": [
    "nlp = spacy.load(\"en_core_web_sm\")\n",
    "doc = nlp(text)\n"
   ]
  },
  {
   "cell_type": "code",
   "execution_count": 56,
   "metadata": {},
   "outputs": [],
   "source": [
    "matcher = Matcher(nlp.vocab)\n",
    "pattern = [{\"POS\": \"PROPN\"}]\n",
    "matcher.add(\"PROPER_NOUN\", patterns=[pattern])\n",
    "matches = matcher(doc)"
   ]
  },
  {
   "cell_type": "code",
   "execution_count": 59,
   "metadata": {},
   "outputs": [
    {
     "data": {
      "text/plain": [
       "[(451313080118390996, 0, 1),\n",
       " (451313080118390996, 1, 2),\n",
       " (451313080118390996, 2, 3),\n",
       " (451313080118390996, 3, 4),\n",
       " (451313080118390996, 6, 7),\n",
       " (451313080118390996, 7, 8),\n",
       " (451313080118390996, 8, 9),\n",
       " (451313080118390996, 10, 11),\n",
       " (451313080118390996, 16, 17),\n",
       " (451313080118390996, 67, 68),\n",
       " (451313080118390996, 68, 69),\n",
       " (451313080118390996, 69, 70),\n",
       " (451313080118390996, 70, 71),\n",
       " (451313080118390996, 71, 72),\n",
       " (451313080118390996, 73, 74),\n",
       " (451313080118390996, 83, 84),\n",
       " (451313080118390996, 84, 85),\n",
       " (451313080118390996, 96, 97),\n",
       " (451313080118390996, 97, 98),\n",
       " (451313080118390996, 107, 108),\n",
       " (451313080118390996, 133, 134),\n",
       " (451313080118390996, 144, 145),\n",
       " (451313080118390996, 145, 146),\n",
       " (451313080118390996, 146, 147),\n",
       " (451313080118390996, 147, 148),\n",
       " (451313080118390996, 149, 150),\n",
       " (451313080118390996, 156, 157),\n",
       " (451313080118390996, 162, 163),\n",
       " (451313080118390996, 163, 164),\n",
       " (451313080118390996, 165, 166),\n",
       " (451313080118390996, 167, 168),\n",
       " (451313080118390996, 179, 180),\n",
       " (451313080118390996, 181, 182),\n",
       " (451313080118390996, 183, 184),\n",
       " (451313080118390996, 192, 193),\n",
       " (451313080118390996, 194, 195),\n",
       " (451313080118390996, 204, 205),\n",
       " (451313080118390996, 212, 213),\n",
       " (451313080118390996, 213, 214),\n",
       " (451313080118390996, 222, 223),\n",
       " (451313080118390996, 224, 225),\n",
       " (451313080118390996, 229, 230),\n",
       " (451313080118390996, 244, 245),\n",
       " (451313080118390996, 245, 246),\n",
       " (451313080118390996, 246, 247),\n",
       " (451313080118390996, 250, 251),\n",
       " (451313080118390996, 251, 252),\n",
       " (451313080118390996, 252, 253),\n",
       " (451313080118390996, 258, 259),\n",
       " (451313080118390996, 259, 260),\n",
       " (451313080118390996, 260, 261),\n",
       " (451313080118390996, 306, 307),\n",
       " (451313080118390996, 312, 313),\n",
       " (451313080118390996, 313, 314),\n",
       " (451313080118390996, 315, 316),\n",
       " (451313080118390996, 317, 318),\n",
       " (451313080118390996, 320, 321),\n",
       " (451313080118390996, 321, 322),\n",
       " (451313080118390996, 322, 323),\n",
       " (451313080118390996, 324, 325),\n",
       " (451313080118390996, 334, 335),\n",
       " (451313080118390996, 341, 342),\n",
       " (451313080118390996, 365, 366),\n",
       " (451313080118390996, 367, 368),\n",
       " (451313080118390996, 387, 388),\n",
       " (451313080118390996, 392, 393),\n",
       " (451313080118390996, 395, 396),\n",
       " (451313080118390996, 396, 397),\n",
       " (451313080118390996, 397, 398),\n",
       " (451313080118390996, 422, 423),\n",
       " (451313080118390996, 423, 424),\n",
       " (451313080118390996, 428, 429),\n",
       " (451313080118390996, 435, 436),\n",
       " (451313080118390996, 437, 438),\n",
       " (451313080118390996, 443, 444),\n",
       " (451313080118390996, 444, 445),\n",
       " (451313080118390996, 453, 454),\n",
       " (451313080118390996, 456, 457),\n",
       " (451313080118390996, 458, 459),\n",
       " (451313080118390996, 460, 461),\n",
       " (451313080118390996, 461, 462),\n",
       " (451313080118390996, 462, 463),\n",
       " (451313080118390996, 468, 469),\n",
       " (451313080118390996, 469, 470),\n",
       " (451313080118390996, 470, 471),\n",
       " (451313080118390996, 480, 481),\n",
       " (451313080118390996, 497, 498),\n",
       " (451313080118390996, 515, 516),\n",
       " (451313080118390996, 518, 519),\n",
       " (451313080118390996, 523, 524),\n",
       " (451313080118390996, 524, 525),\n",
       " (451313080118390996, 526, 527),\n",
       " (451313080118390996, 531, 532),\n",
       " (451313080118390996, 532, 533),\n",
       " (451313080118390996, 533, 534),\n",
       " (451313080118390996, 537, 538),\n",
       " (451313080118390996, 538, 539),\n",
       " (451313080118390996, 539, 540),\n",
       " (451313080118390996, 540, 541),\n",
       " (451313080118390996, 541, 542),\n",
       " (451313080118390996, 553, 554),\n",
       " (451313080118390996, 554, 555),\n",
       " (451313080118390996, 573, 574),\n",
       " (451313080118390996, 582, 583),\n",
       " (451313080118390996, 583, 584),\n",
       " (451313080118390996, 585, 586),\n",
       " (451313080118390996, 592, 593),\n",
       " (451313080118390996, 593, 594),\n",
       " (451313080118390996, 594, 595),\n",
       " (451313080118390996, 595, 596),\n",
       " (451313080118390996, 596, 597),\n",
       " (451313080118390996, 599, 600),\n",
       " (451313080118390996, 600, 601),\n",
       " (451313080118390996, 602, 603),\n",
       " (451313080118390996, 604, 605)]"
      ]
     },
     "execution_count": 59,
     "metadata": {},
     "output_type": "execute_result"
    }
   ],
   "source": [
    "matches"
   ]
  },
  {
   "cell_type": "code",
   "execution_count": 62,
   "metadata": {},
   "outputs": [
    {
     "name": "stdout",
     "output_type": "stream",
     "text": [
      "[('PROPER_NOUN', Martin), ('PROPER_NOUN', Luther), ('PROPER_NOUN', King), ('PROPER_NOUN', Jr.), ('PROPER_NOUN', Michael), ('PROPER_NOUN', King), ('PROPER_NOUN', Jr.), ('PROPER_NOUN', January), ('PROPER_NOUN', April), ('PROPER_NOUN', Martin), ('PROPER_NOUN', Luther), ('PROPER_NOUN', King), ('PROPER_NOUN', Sr), ('PROPER_NOUN', .), ('PROPER_NOUN', King), ('PROPER_NOUN', United), ('PROPER_NOUN', States), ('PROPER_NOUN', Jim), ('PROPER_NOUN', Crow), ('PROPER_NOUN', King), ('PROPER_NOUN', Montgomery), ('PROPER_NOUN', Southern), ('PROPER_NOUN', Christian), ('PROPER_NOUN', Leadership), ('PROPER_NOUN', Conference), ('PROPER_NOUN', SCLC), ('PROPER_NOUN', SCLC), ('PROPER_NOUN', Albany), ('PROPER_NOUN', Movement), ('PROPER_NOUN', Albany), ('PROPER_NOUN', Georgia), ('PROPER_NOUN', Birmingham), ('PROPER_NOUN', Alabama), ('PROPER_NOUN', King), ('PROPER_NOUN', March), ('PROPER_NOUN', Washington), ('PROPER_NOUN', Dream), ('PROPER_NOUN', Lincoln), ('PROPER_NOUN', Memorial), ('PROPER_NOUN', Selma), ('PROPER_NOUN', Montgomery), ('PROPER_NOUN', Selma), ('PROPER_NOUN', Civil), ('PROPER_NOUN', Rights), ('PROPER_NOUN', Act), ('PROPER_NOUN', Voting), ('PROPER_NOUN', Rights), ('PROPER_NOUN', Act), ('PROPER_NOUN', Fair), ('PROPER_NOUN', Housing), ('PROPER_NOUN', Act), ('PROPER_NOUN', King), ('PROPER_NOUN', Federal), ('PROPER_NOUN', Bureau), ('PROPER_NOUN', Investigation), ('PROPER_NOUN', FBI), ('PROPER_NOUN', J.), ('PROPER_NOUN', Edgar), ('PROPER_NOUN', Hoover), ('PROPER_NOUN', King), ('PROPER_NOUN', FBI), ('PROPER_NOUN', FBI), ('PROPER_NOUN', FBI), ('PROPER_NOUN', King), ('PROPER_NOUN', October), ('PROPER_NOUN', King), ('PROPER_NOUN', Nobel), ('PROPER_NOUN', Peace), ('PROPER_NOUN', Prize), ('PROPER_NOUN', Vietnam), ('PROPER_NOUN', War), ('PROPER_NOUN', King), ('PROPER_NOUN', Washington), ('PROPER_NOUN', D.C.), ('PROPER_NOUN', Poor), ('PROPER_NOUN', People), ('PROPER_NOUN', April), ('PROPER_NOUN', Memphis), ('PROPER_NOUN', Tennessee), ('PROPER_NOUN', James), ('PROPER_NOUN', Earl), ('PROPER_NOUN', Ray), ('PROPER_NOUN', Missouri), ('PROPER_NOUN', State), ('PROPER_NOUN', Penitentiary), ('PROPER_NOUN', King), ('PROPER_NOUN', King), ('PROPER_NOUN', U.S.), ('PROPER_NOUN', King), ('PROPER_NOUN', Presidential), ('PROPER_NOUN', Medal), ('PROPER_NOUN', Freedom), ('PROPER_NOUN', Congressional), ('PROPER_NOUN', Gold), ('PROPER_NOUN', Medal), ('PROPER_NOUN', Martin), ('PROPER_NOUN', Luther), ('PROPER_NOUN', King), ('PROPER_NOUN', Jr.), ('PROPER_NOUN', Day), ('PROPER_NOUN', United), ('PROPER_NOUN', States), ('PROPER_NOUN', U.S.), ('PROPER_NOUN', King), ('PROPER_NOUN', County), ('PROPER_NOUN', Washington), ('PROPER_NOUN', Martin), ('PROPER_NOUN', Luther), ('PROPER_NOUN', King), ('PROPER_NOUN', Jr.), ('PROPER_NOUN', Memorial), ('PROPER_NOUN', National), ('PROPER_NOUN', Mall), ('PROPER_NOUN', Washington), ('PROPER_NOUN', D.C.)]\n"
     ]
    }
   ],
   "source": [
    "print([(nlp.vocab[lexeme[0]].text, doc[lexeme[1]:lexeme[2]]) for lexeme in matches])"
   ]
  },
  {
   "cell_type": "code",
   "execution_count": 65,
   "metadata": {},
   "outputs": [
    {
     "name": "stdout",
     "output_type": "stream",
     "text": [
      "[((451313080118390996, 0, 4), Martin Luther King Jr.), ((451313080118390996, 6, 9), Michael King Jr.), ((451313080118390996, 10, 11), January), ((451313080118390996, 16, 17), April), ((451313080118390996, 67, 72), Martin Luther King Sr.), ((451313080118390996, 73, 74), King), ((451313080118390996, 83, 85), United States), ((451313080118390996, 96, 98), Jim Crow), ((451313080118390996, 107, 108), King), ((451313080118390996, 133, 134), Montgomery), ((451313080118390996, 144, 148), Southern Christian Leadership Conference), ((451313080118390996, 149, 150), SCLC), ((451313080118390996, 156, 157), SCLC), ((451313080118390996, 162, 164), Albany Movement), ((451313080118390996, 165, 166), Albany), ((451313080118390996, 167, 168), Georgia), ((451313080118390996, 179, 180), Birmingham), ((451313080118390996, 181, 182), Alabama), ((451313080118390996, 183, 184), King), ((451313080118390996, 192, 193), March), ((451313080118390996, 194, 195), Washington), ((451313080118390996, 204, 205), Dream), ((451313080118390996, 212, 214), Lincoln Memorial), ((451313080118390996, 222, 223), Selma), ((451313080118390996, 224, 225), Montgomery), ((451313080118390996, 229, 230), Selma), ((451313080118390996, 244, 247), Civil Rights Act), ((451313080118390996, 250, 253), Voting Rights Act), ((451313080118390996, 258, 261), Fair Housing Act), ((451313080118390996, 306, 307), King), ((451313080118390996, 312, 314), Federal Bureau), ((451313080118390996, 315, 316), Investigation), ((451313080118390996, 317, 318), FBI), ((451313080118390996, 320, 323), J. Edgar Hoover), ((451313080118390996, 324, 325), King), ((451313080118390996, 334, 335), FBI), ((451313080118390996, 341, 342), FBI), ((451313080118390996, 365, 366), FBI), ((451313080118390996, 367, 368), King), ((451313080118390996, 387, 388), October), ((451313080118390996, 392, 393), King), ((451313080118390996, 395, 398), Nobel Peace Prize), ((451313080118390996, 422, 424), Vietnam War), ((451313080118390996, 428, 429), King), ((451313080118390996, 435, 436), Washington), ((451313080118390996, 437, 438), D.C.), ((451313080118390996, 443, 445), Poor People), ((451313080118390996, 453, 454), April), ((451313080118390996, 456, 457), Memphis), ((451313080118390996, 458, 459), Tennessee), ((451313080118390996, 460, 463), James Earl Ray), ((451313080118390996, 468, 471), Missouri State Penitentiary), ((451313080118390996, 480, 481), King), ((451313080118390996, 497, 498), King), ((451313080118390996, 515, 516), U.S.), ((451313080118390996, 518, 519), King), ((451313080118390996, 523, 525), Presidential Medal), ((451313080118390996, 526, 527), Freedom), ((451313080118390996, 531, 534), Congressional Gold Medal), ((451313080118390996, 537, 542), Martin Luther King Jr. Day), ((451313080118390996, 553, 555), United States), ((451313080118390996, 573, 574), U.S.), ((451313080118390996, 582, 584), King County), ((451313080118390996, 585, 586), Washington), ((451313080118390996, 592, 597), Martin Luther King Jr. Memorial), ((451313080118390996, 599, 601), National Mall), ((451313080118390996, 602, 603), Washington), ((451313080118390996, 604, 605), D.C.)]\n"
     ]
    }
   ],
   "source": [
    "matcher = Matcher(nlp.vocab)\n",
    "pattern = [{\"POS\": \"PROPN\", \"OP\":\"+\"}] # this will basically concatenate the overlap proper nouns\n",
    "matcher.add(\"PROPER_NOUN\", patterns=[pattern], greedy=\"LONGEST\") # greedy will take the longest one after concatenation\n",
    "matches = matcher(doc)\n",
    "matches.sort(key=lambda x:x[1])# sort in increasing order of their strting indexes\n",
    "print([(lexeme, doc[lexeme[1]:lexeme[2]]) for lexeme in matches])"
   ]
  },
  {
   "cell_type": "code",
   "execution_count": 66,
   "metadata": {},
   "outputs": [
    {
     "name": "stdout",
     "output_type": "stream",
     "text": [
      "[((451313080118390996, 73, 75), King advanced), ((451313080118390996, 107, 109), King participated), ((451313080118390996, 320, 324), J. Edgar Hoover considered), ((451313080118390996, 365, 367), FBI mailed), ((451313080118390996, 392, 394), King won), ((451313080118390996, 553, 556), United States beginning)]\n"
     ]
    }
   ],
   "source": [
    "matcher = Matcher(nlp.vocab)\n",
    "pattern = [{\"POS\": \"PROPN\", \"OP\":\"+\"}, {\"POS\":\"VERB\"}] # Now we want all the proper nouns which are followed by then the verb\n",
    "matcher.add(\"PROPER_NOUN\", patterns=[pattern], greedy=\"LONGEST\") # greedy will take the longest one after concatenation\n",
    "matches = matcher(doc)\n",
    "matches.sort(key=lambda x:x[1])# sort in increasing order of their strting indexes\n",
    "print([(lexeme, doc[lexeme[1]:lexeme[2]]) for lexeme in matches])"
   ]
  },
  {
   "cell_type": "code",
   "execution_count": 71,
   "metadata": {},
   "outputs": [],
   "source": [
    "with open(\"alice_in_wonderland.txt\") as f:\n",
    "    text = f.read()\n",
    "text = text.replace(\"`\", \"'\")\n",
    "doc = nlp(text)"
   ]
  },
  {
   "cell_type": "code",
   "execution_count": 72,
   "metadata": {},
   "outputs": [
    {
     "name": "stdout",
     "output_type": "stream",
     "text": [
      "[((9093618344966750645, 81, 92), 'and what is the use of a book,'), ((9093618344966750645, 95, 102), 'without pictures or conversation?'), ((9093618344966750645, 550, 554), 'ORANGE MARMALADE'), ((9093618344966750645, 602, 609), ' thought Alice to herself, '), ((9093618344966750645, 1192, 1197), ' and sometimes, '), ((9093618344966750645, 1752, 1758), ' thought poor Alice, '), ((9093618344966750645, 1930, 1934), 'DRINK ME'), ((9093618344966750645, 1951, 1956), 'Drink me,'), ((9093618344966750645, 1982, 1987), ' she said, '), ((9093618344966750645, 2101, 2105), 'poison,'), ((9093618344966750645, 2127, 2131), 'poison,'), ((9093618344966750645, 2230, 2237), 'What a curious feeling!'), ((9093618344966750645, 2338, 2345), ' said Alice to herself, '), ((9093618344966750645, 2551, 2562), 'I advise you to leave off this minute!'), ((9093618344966750645, 2649, 2655), ' thought poor Alice, '), ((9093618344966750645, 2718, 2722), 'EAT ME'), ((9093618344966750645, 2737, 2742), ' said Alice, '), ((9093618344966750645, 2972, 2978), 'Curiouser and curiouser!'), ((9093618344966750645, 3130, 3135), ' thought Alice, '), ((9093618344966750645, 3184, 3193), 'They must go by the carrier,'), ((9093618344966750645, 3357, 3367), 'You ought to be ashamed of yourself,'), ((9093618344966750645, 3801, 3806), ' she said, '), ((9093618344966750645, 4377, 4386), 'I must be growing small again.'), ((9093618344966750645, 4465, 4473), 'That WAS a narrow escape!'), ((9093618344966750645, 4497, 4505), 'and now for the garden!'), ((9093618344966750645, 4546, 4555), 'and things are worse than ever,'), ((9093618344966750645, 4907, 4912), ' thought Alice, '), ((9093618344966750645, 5091, 5096), ' thought Alice; '), ((9093618344966750645, 5148, 5155), 'Ou est ma chatte?'), ((9093618344966750645, 5230, 5236), 'Not like cats!'), ((9093618344966750645, 5249, 5260), 'Would YOU like cats if you were me?'), ((9093618344966750645, 5440, 5445), 'We indeed!'), ((9093618344966750645, 6185, 6195), ' said the Mouse with an important air, '), ((9093618344966750645, 6273, 6277), 'Ugh!'), ((9093618344966750645, 6286, 6293), 'I beg your pardon!'), ((9093618344966750645, 6305, 6311), 'Did you speak?'), ((9093618344966750645, 6312, 6317), 'Not I!'), ((9093618344966750645, 6323, 6330), 'I thought you did,'), ((9093618344966750645, 6375, 6380), 'Found WHAT?'), ((9093618344966750645, 6385, 6390), 'Found IT,'), ((9093618344966750645, 6536, 6543), 'As wet as ever,'), ((9093618344966750645, 6565, 6571), 'In that case,'), ((9093618344966750645, 6601, 6606), 'Speak English!'), ((9093618344966750645, 6664, 6673), 'What I was going to say,'), ((9093618344966750645, 6750, 6754), 'Why,'), ((9093618344966750645, 6758, 6771), 'the best way to explain it is to do it.'), ((9093618344966750645, 6922, 6929), 'The race is over!'), ((9093618344966750645, 6942, 6949), 'But who has won?'), ((9093618344966750645, 7027, 7037), 'But who is to give the prizes?'), ((9093618344966750645, 7170, 7175), 'Of course,'), ((9093618344966750645, 7203, 7209), 'Only a thimble,'), ((9093618344966750645, 7214, 7221), 'Hand it over here,'), ((9093618344966750645, 7450, 7461), 'Mine is a long and a sad tale!'), ((9093618344966750645, 7498, 7508), 'but why do you call it sad?'), ((9093618344966750645, 7696, 7703), 'You are not attending!'), ((9093618344966750645, 7711, 7719), 'What are you thinking of?'), ((9093618344966750645, 7720, 7727), 'I beg your pardon,'), ((9093618344966750645, 7748, 7754), 'I had NOT!'), ((9093618344966750645, 7764, 7769), 'A knot!'), ((9093618344966750645, 7800, 7810), 'I shall do nothing of the sort,'), ((9093618344966750645, 7822, 7832), 'You insult me by talking such nonsense!'), ((9093618344966750645, 7868, 7878), 'Please come back and finish your story!'), ((9093618344966750645, 8653, 8662), 'He took me for his housemaid,'), ((9093618344966750645, 8788, 8795), 'How queer it seems,'), ((9093618344966750645, 9011, 9016), 'DRINK ME,'), ((9093618344966750645, 9382, 9391), 'It was much pleasanter at home,'), ((9093618344966750645, 9556, 9561), 'But then,'), ((9093618344966750645, 10072, 10076), 'arrum.'), ((9093618344966750645, 10628, 10634), 'This is Bill,'), ((9093618344966750645, 10824, 10833), 'We must burn the house down!'), ((9093618344966750645, 10939, 10946), 'A barrowful of WHAT?'), ((9093618344966750645, 11057, 11067), 'If I eat one of these cakes,'), ((9093618344966750645, 11387, 11393), 'Poor little thing!'), ((9093618344966750645, 11717, 11729), 'And yet what a dear little puppy it was!'), ((9093618344966750645, 12052, 12058), 'Who are YOU?'), ((9093618344966750645, 12124, 12133), 'What do you mean by that?'), ((9093618344966750645, 12139, 12144), 'Explain yourself!'), ((9093618344966750645, 12157, 12162), ' said Alice, '), ((9093618344966750645, 12256, 12261), ' said Alice; '), ((9093618344966750645, 12307, 12313), 'Not a bit,'), ((9093618344966750645, 12349, 12353), 'You!'), ((9093618344966750645, 12359, 12365), 'Who are YOU?'), ((9093618344966750645, 12425, 12429), 'Why?'), ((9093618344966750645, 12473, 12478), 'Come back!'), ((9093618344966750645, 12512, 12518), 'Keep your temper,'), ((9093618344966750645, 12523, 12529), 'Is that all?'), ((9093618344966750645, 12544, 12548), 'No,'), ((9093618344966750645, 12637, 12642), ' said Alice; '), ((9093618344966750645, 12788, 12794), 'In my youth,'), ((9093618344966750645, 12836, 12842), 'You are old,'), ((9093618344966750645, 12884, 12890), 'In my youth,'), ((9093618344966750645, 12933, 12939), 'You are old,'), ((9093618344966750645, 12982, 12988), 'In my youth,'), ((9093618344966750645, 13032, 13038), 'You are old,'), ((9093618344966750645, 13131, 13139), 'That is not said right,'), ((9093618344966750645, 13171, 13181), 'It is wrong from beginning to end,'), ((9093618344966750645, 13205, 13215), 'What size do you want to be?'), ((9093618344966750645, 13291, 13298), 'Are you content now?'), ((9093618344966750645, 13343, 13353), 'It is a very good height indeed!'), ((9093618344966750645, 13551, 13557), 'Of the mushroom,'), ((9093618344966750645, 13654, 13662), 'And now which is which?'), ((9093618344966750645, 13918, 13928), 'What CAN all that green stuff be?'), ((9093618344966750645, 14120, 14124), 'Serpent!'), ((9093618344966750645, 14142, 14148), 'Let me alone!'), ((9093618344966750645, 14511, 14518), 'A likely story indeed!'), ((9093618344966750645, 14640, 14646), ' said the Pigeon; '), ((9093618344966750645, 14735, 14745), 'It matters a good deal to ME,'), ((9093618344966750645, 15063, 15069), 'Whoever lives there,'), ((9093618344966750645, 15477, 15483), ' said the Footman, '), ((9093618344966750645, 15581, 15590), 'how am I to get in?'), ((9093618344966750645, 15591, 15602), 'There might be some sense in your knocking,'), ((9093618344966750645, 15681, 15688), ' she said to herself; '), ((9093618344966750645, 15725, 15732), 'I shall sit here,'), ((9093618344966750645, 15814, 15823), 'How am I to get in?'), ((9093618344966750645, 15833, 15843), 'ARE you to get in at all?'), ((9093618344966750645, 15885, 15892), ' she muttered to herself, '), ((9093618344966750645, 15930, 15937), 'I shall sit here,'), ((9093618344966750645, 15953, 15962), 'But what am I to do?'), ((9093618344966750645, 15966, 15972), 'Anything you like,'), ((9093618344966750645, 16184, 16192), 'Please would you tell me,'), ((9093618344966750645, 16218, 16227), 'why your cat grins like that?'), ((9093618344966750645, 16235, 16241), ' said the Duchess, '), ((9093618344966750645, 16323, 16329), 'They all can,'), ((9093618344966750645, 16377, 16383), ' said the Duchess; '), ((9093618344966750645, 16578, 16587), 'If everybody minded their own business,'), ((9093618344966750645, 16612, 16621), 'Which would NOT be an advantage,'), ((9093618344966750645, 16679, 16685), 'Talking of axes,'), ((9093618344966750645, 16689, 16696), 'chop off her head!'), ((9093618344966750645, 16767, 16773), ' said the Duchess; '), ((9093618344966750645, 17210, 17215), ' thought Alice, '), ((9093618344966750645, 17276, 17281), ' said Alice; '), ((9093618344966750645, 17375, 17384), 'But perhaps it was only sobbing,'), ((9093618344966750645, 17596, 17604), 'If it had grown up,'), ((9093618344966750645, 17745, 17750), 'Cheshire Puss,'), ((9093618344966750645, 17823, 17838), 'That depends a good deal on where you want to get to,'), ((9093618344966750645, 17899, 17905), ' said the Cat, '), ((9093618344966750645, 17932, 17942), 'What sort of people live about here?'), ((9093618344966750645, 17943, 17949), 'In THAT direction,'), ((9093618344966750645, 18063, 18069), 'You must be,'), ((9093618344966750645, 18113, 18119), 'To begin with,'), ((9093618344966750645, 18138, 18144), 'I suppose so,'), ((9093618344966750645, 18153, 18160), ' the Cat went on, '), ((9093618344966750645, 18222, 18230), 'Call it what you like,'), ((9093618344966750645, 18250, 18259), 'I should like it very much,'), ((9093618344966750645, 18359, 18367), 'It turned into a pig,'), ((9093618344966750645, 18385, 18392), 'I thought it would,'), ((9093618344966750645, 18452, 18459), ' she said to herself; '), ((9093618344966750645, 18539, 18545), 'I said pig,'), ((9093618344966750645, 18572, 18577), 'All right,'), ((9093618344966750645, 18867, 18875), 'Very uncomfortable for the Dormouse,'), ((9093618344966750645, 18970, 18976), 'Have some wine,'), ((9093618344966750645, 19083, 19088), ' said Alice; '), ((9093618344966750645, 19102, 19109), 'Your hair wants cutting,'), ((9093618344966750645, 19137, 19148), 'You should learn not to make personal remarks,'), ((9093618344966750645, 19232, 19249), 'Do you mean that you think you can find out the answer to it?'), ((9093618344966750645, 19256, 19261), 'Exactly so,'), ((9093618344966750645, 19265, 19275), 'Then you should say what you mean,'), ((9093618344966750645, 19286, 19292), ' Alice hastily replied; '), ((9093618344966750645, 19315, 19324), 'Not the same thing a bit!'), ((9093618344966750645, 19361, 19370), 'You might just as well say,'), ((9093618344966750645, 19400, 19409), 'You might just as well say,'), ((9093618344966750645, 19448, 19458), 'It IS the same thing with you,'), ((9093618344966750645, 19573, 19578), 'The fourth.'), ((9093618344966750645, 19579, 19585), 'Two days wrong!'), ((9093618344966750645, 19614, 19622), 'It was the BEST butter,'), ((9093618344966750645, 19736, 19743), 'What a funny watch!'), ((9093618344966750645, 19768, 19774), 'Why should it?'), ((9093618344966750645, 19793, 19799), 'Of course not,'), ((9093618344966750645, 19825, 19835), 'Which is just the case with MINE,'), ((9093618344966750645, 19889, 19897), 'The Dormouse is asleep again,'), ((9093618344966750645, 19949, 19958), 'Have you guessed the riddle yet?'), ((9093618344966750645, 20004, 20009), 'Nor I,'), ((9093618344966750645, 20033, 20038), ' she said, '), ((9093618344966750645, 20052, 20064), 'If you knew Time as well as I do,'), ((9093618344966750645, 20118, 20130), 'I dare say you never even spoke to Time!'), ((9093618344966750645, 20131, 20136), 'Perhaps not,'), ((9093618344966750645, 20260, 20268), 'I only wish it was,'), ((9093618344966750645, 20345, 20354), 'Is that the way YOU manage?'), ((9093618344966750645, 20366, 20371), 'Not I!'), ((9093618344966750645, 20473, 20479), ' the Hatter continued, '), ((9093618344966750645, 20592, 20598), 'How dreadfully savage!'), ((9093618344966750645, 20602, 20609), 'And ever since that,'), ((9093618344966750645, 20724, 20729), 'Exactly so,'), ((9093618344966750645, 20734, 20743), 'as the things get used up.'), ((9093618344966750645, 20744, 20757), 'But what happens when you come to the beginning again?'), ((9093618344966750645, 20764, 20772), 'Suppose we change the subject,'), ((9093618344966750645, 20825, 20832), 'Then the Dormouse shall!'), ((9093618344966750645, 20896, 20903), 'Tell us a story!'), ((9093618344966750645, 20920, 20928), 'And be quick about it,'), ((9093618344966750645, 20947, 20959), 'Once upon a time there were three little sisters,'), ((9093618344966750645, 20992, 21000), 'What did they live on?'), ((9093618344966750645, 21018, 21025), 'They lived on treacle,'), ((9093618344966750645, 21064, 21070), 'So they were,'), ((9093618344966750645, 21074, 21079), 'VERY ill.'), ((9093618344966750645, 21112, 21126), 'But why did they live at the bottom of a well?'), ((9093618344966750645, 21127, 21134), 'Take some more tea,'), ((9093618344966750645, 21153, 21162), ' Alice replied in an offended tone, '), ((9093618344966750645, 21201, 21208), 'Nobody asked YOUR opinion,'), ((9093618344966750645, 21376, 21383), ' Alice said very humbly; '), ((9093618344966750645, 21442, 21449), 'What did they draw?'), ((9093618344966750645, 21458, 21462), 'Treacle,'), ((9093618344966750645, 21475, 21483), 'I want a clean cup,'), ((9093618344966750645, 21633, 21639), ' said the Hatter; '), ((9093618344966750645, 21662, 21671), 'But they were IN the well,'), ((9093618344966750645, 21687, 21693), 'Of course they were'), ((9093618344966750645, 21727, 21735), 'They were learning to draw,'), ((9093618344966750645, 21772, 21779), 'Why with an M?'), ((9093618344966750645, 21783, 21788), 'Why not?'), ((9093618344966750645, 22427, 22432), 'What for?'), ((9093618344966750645, 22464, 22469), ' said Five, '), ((9093618344966750645, 22549, 22556), 'Would you tell me,'), ((9093618344966750645, 22969, 22974), ' thought she, '), ((9093618344966750645, 23030, 23036), 'Who is this?'), ((9093618344966750645, 23055, 23059), 'Idiot!'), ((9093618344966750645, 23140, 23147), 'And who are THESE?'), ((9093618344966750645, 23220, 23227), 'How should I know?'), ((9093618344966750645, 23280, 23284), 'Nonsense!'), ((9093618344966750645, 23342, 23348), 'Turn them over!'), ((9093618344966750645, 23362, 23367), 'Get up!'), ((9093618344966750645, 23407, 23413), 'Leave off that!'), ((9093618344966750645, 23418, 23425), 'You make me giddy.'), ((9093618344966750645, 23451, 23459), 'May it please your Majesty,'), ((9093618344966750645, 23484, 23489), 'I see!'), ((9093618344966750645, 23503, 23510), 'Off with their heads!'), ((9093618344966750645, 23592, 23599), 'Are their heads off?'), ((9093618344966750645, 23636, 23643), 'Can you play croquet?'), ((9093618344966750645, 23665, 23669), 'Yes!'), ((9093618344966750645, 23738, 23742), 'Very,'), ((9093618344966750645, 23812, 23817), 'What for?'), ((9093618344966750645, 23934, 23941), 'Get to your places!'), ((9093618344966750645, 24296, 24303), 'Off with his head!'), ((9093618344966750645, 24355, 24360), 'and then,'), ((9093618344966750645, 24485, 24493), 'How are you getting on?'), ((9093618344966750645, 24534, 24539), ' she thought, '), ((9093618344966750645, 24748, 24757), 'How do you like the Queen?'), ((9093618344966750645, 24766, 24772), 'Not at all,'), ((9093618344966750645, 24831, 24839), 'Who ARE you talking to?'), ((9093618344966750645, 24938, 24944), ' said the King, '), ((9093618344966750645, 24965, 24975), 'A cat may look at a king,'), ((9093618344966750645, 25061, 25068), 'Off with his head!'), ((9093618344966750645, 25309, 25314), ' thought Alice, '), ((9093618344966750645, 26212, 26217), 'tis love, '), ((9093618344966750645, 26230, 26235), 'Somebody said,'), ((9093618344966750645, 26311, 26323), 'How fond she is of finding morals in things!'), ((9093618344966750645, 26385, 26391), 'HE might bite,'), ((9093618344966750645, 26408, 26413), 'Very true,'), ((9093618344966750645, 26496, 26503), 'Of course it is,'), ((9093618344966750645, 26596, 26604), 'I quite agree with you,'), ((9093618344966750645, 26675, 26685), 'I think I should understand that better,'), ((9093618344966750645, 26792, 26800), 'A cheap sort of present!'), ((9093618344966750645, 26833, 26838), 'Thinking again?'), ((9093618344966750645, 26878, 26886), 'Just about as much right,'), ((9093618344966750645, 26928, 26932), 'moral,'), ((9093618344966750645, 27181, 27188), 'Off with her head!'), ((9093618344966750645, 27278, 27288), 'Have you seen the Mock Turtle yet?'), ((9093618344966750645, 27289, 27293), 'No,'), ((9093618344966750645, 27351, 27357), ' said the Queen, '), ((9093618344966750645, 27390, 27397), 'You are all pardoned.'), ((9093618344966750645, 27473, 27479), ' said the Queen, '), ((9093618344966750645, 27600, 27605), 'What fun!'), ((9093618344966750645, 27619, 27626), 'What IS the fun?'), ((9093618344966750645, 27761, 27768), 'What is his sorrow?'), ((9093618344966750645, 27842, 27849), 'This here young lady,'), ((9093618344966750645, 27956, 27960), 'Once,'), ((9093618344966750645, 28000, 28004), 'Hjckrrh!'), ((9093618344966750645, 28066, 28073), 'When we were little,'), ((9093618344966750645, 28140, 28151), 'We called him Tortoise because he taught us,'), ((9093618344966750645, 28159, 28167), 'really you are very dull!'), ((9093618344966750645, 28282, 28287), 'You did,'), ((9093618344966750645, 28293, 28299), 'Hold your tongue!'), ((9093618344966750645, 28349, 28354), ' said Alice; '), ((9093618344966750645, 28367, 28372), 'With extras?'), ((9093618344966750645, 28381, 28385), 'Yes,'), ((9093618344966750645, 28388, 28396), 'we learned French and music.'), ((9093618344966750645, 28397, 28402), 'And washing?'), ((9093618344966750645, 28408, 28413), 'Certainly not!'), ((9093618344966750645, 28480, 28485), ' said Alice; '), ((9093618344966750645, 28516, 28525), 'I only took the regular course.'), ((9093618344966750645, 28526, 28532), 'What was that?'), ((9093618344966750645, 28591, 28597), 'What is it?'), ((9093618344966750645, 28638, 28642), 'Yes,'), ((9093618344966750645, 28666, 28673), ' the Gryphon went on, '), ((9093618344966750645, 28799, 28806), 'What was THAT like?'), ((9093618344966750645, 28879, 28887), 'I never went to him,'), ((9093618344966750645, 28942, 28955), 'And how many hours a day did you do lessons?'), ((9093618344966750645, 28968, 28976), 'Ten hours the first day,'), ((9093618344966750645, 28993, 29000), 'What a curious plan!'), ((9093618344966750645, 29021, 29031), 'because they lessen from day to day.'), ((9093618344966750645, 29071, 29078), 'Of course it was,'), ((9093618344966750645, 29084, 29095), 'And how did you manage on the twelfth?'), ((9093618344966750645, 29120, 29130), 'tell her something about the games now.'), ((9093618344966750645, 29327, 29337), 'What sort of a dance is it?'), ((9093618344966750645, 29341, 29347), ' said the Gryphon, '), ((9093618344966750645, 29360, 29365), 'Two lines!'), ((9093618344966750645, 29400, 29408), 'THAT generally takes some time,'), ((9093618344966750645, 29419, 29429), 'Each with a lobster as a partner!'), ((9093618344966750645, 29434, 29439), 'Of course,'), ((9093618344966750645, 29478, 29486), ' the Mock Turtle went on, '), ((9093618344966750645, 29491, 29496), 'The lobsters!'), ((9093618344966750645, 29519, 29525), 'Swim after them!'), ((9093618344966750645, 29530, 29539), 'Turn a somersault in the sea!'), ((9093618344966750645, 29550, 29556), 'Change lobsters again!'), ((9093618344966750645, 29626, 29636), 'It must be a very pretty dance,'), ((9093618344966750645, 29641, 29653), 'Would you like to see a little of it?'), ((9093618344966750645, 29659, 29665), 'Very much indeed,'), ((9093618344966750645, 30156, 30163), ' said the Mock Turtle, '), ((9093618344966750645, 30178, 30183), ' said Alice, '), ((9093618344966750645, 30208, 30215), ' said the Mock Turtle, '), ((9093618344966750645, 30237, 30243), 'I believe so,'), ((9093618344966750645, 30335, 30341), 'The reason is,'), ((9093618344966750645, 30407, 30412), 'Thank you,'), ((9093618344966750645, 30468, 30476), 'I never thought about it,'), ((9093618344966750645, 30480, 30484), 'Why?'), ((9093618344966750645, 30485, 30494), 'IT DOES THE BOOTS AND SHOES.'), ((9093618344966750645, 30508, 30516), 'Does the boots and shoes!'), ((9093618344966750645, 30584, 30593), 'Boots and shoes under the sea,'), ((9093618344966750645, 30617, 30626), 'And what are they made of?'), ((9093618344966750645, 30654, 30664), 'any shrimp could have told you that.'), ((9093618344966750645, 30715, 30726), 'They were obliged to have him with them,'), ((9093618344966750645, 30733, 30745), 'no wise fish would go anywhere without a porpoise.'), ((9093618344966750645, 30763, 30769), 'Of course not,'), ((9093618344966750645, 30821, 30829), 'I mean what I say,'), ((9093618344966750645, 30902, 30908), 'Explain all that,'), ((9093618344966750645, 30935, 30944), 'explanations take such a dreadful time.'), ((9093618344966750645, 31089, 31096), 'It all came different!'), ((9093618344966750645, 31152, 31162), 'TIS THE VOICE OF THE SLUGGARD,\"'), ((9093618344966750645, 31187, 31199), 'I might as well be at school at once.'), ((9093618344966750645, 31388, 31395), ' said the Mock Turtle; '), ((9093618344966750645, 31434, 31444), 'I should like to have it explained,'), ((9093618344966750645, 31475, 31482), 'But about his toes?'), ((9093618344966750645, 31537, 31546), 'Go on with the next verse,'), ((9093618344966750645, 31696, 31708), 'What IS the use of repeating all that stuff,'), ((9093618344966750645, 31771, 31783), 'Shall we try another figure of the Lobster Quadrille?'), ((9093618344966750645, 32048, 32053), 'Chorus again!'), ((9093618344966750645, 32088, 32093), 'Come on!'), ((9093618344966750645, 32120, 32127), 'What trial is it?'), ((9093618344966750645, 32139, 32144), 'Come on!'), ((9093618344966750645, 32342, 32350), 'and hand round the refreshments!'), ((9093618344966750645, 32432, 32440), 'because of his great wig.'), ((9093618344966750645, 32506, 32511), ' thought Alice, '), ((9093618344966750645, 32524, 32528), 'creatures,'), ((9093618344966750645, 32632, 32639), 'What are they doing?'), ((9093618344966750645, 32700, 32705), 'Stupid things!'), ((9093618344966750645, 32779, 32784), 'stupid things!'), ((9093618344966750645, 32806, 32810), 'stupid,'), ((9093618344966750645, 33042, 33048), 'Consider your verdict,'), ((9093618344966750645, 33084, 33091), 'Call the first witness,'), ((9093618344966750645, 33159, 33164), ' he began, '), ((9093618344966750645, 33187, 33195), 'You ought to have finished,'), ((9093618344966750645, 33252, 33256), 'Fifteenth,'), ((9093618344966750645, 33262, 33266), 'Sixteenth,'), ((9093618344966750645, 33271, 33277), 'Write that down,'), ((9093618344966750645, 33315, 33322), 'Take off your hat,'), ((9093618344966750645, 33342, 33346), 'Stolen!'), ((9093618344966750645, 33366, 33374), 'I keep them to sell,'), ((9093618344966750645, 33421, 33427), 'Give your evidence,'), ((9093618344966750645, 33602, 33609), 'I can hardly breathe.'), ((9093618344966750645, 33687, 33695), 'not in that ridiculous fashion.'), ((9093618344966750645, 33790, 33797), ' the King repeated angrily, '), ((9093618344966750645, 33874, 33882), 'The twinkling of the what?'), ((9093618344966750645, 33887, 33895), 'It began with the tea,'), ((9093618344966750645, 33900, 33910), 'Of course twinkling begins with a T!'), ((9093618344966750645, 33938, 33945), ' the Hatter went on, '), ((9093618344966750645, 33976, 33981), 'You did!'), ((9093618344966750645, 33986, 33992), 'I deny it!'), ((9093618344966750645, 33998, 34004), 'He denies it,'), ((9093618344966750645, 34009, 34016), 'leave out that part.'), ((9093618344966750645, 34063, 34069), ' continued the Hatter, '), ((9093618344966750645, 34080, 34089), 'But what did the Dormouse say?'), ((9093618344966750645, 34109, 34115), 'You MUST remember,'), ((9093618344966750645, 34382, 34390), 'Then you may SIT down,'), ((9093618344966750645, 34465, 34471), 'You may go,'), ((9093618344966750645, 34533, 34540), 'Call the next witness!'), ((9093618344966750645, 34598, 34604), 'Give your evidence,'), ((9093618344966750645, 34718, 34722), 'Treacle,'), ((9093618344966750645, 34730, 34736), 'Collar that Dormouse,'), ((9093618344966750645, 34808, 34813), 'Never mind!'), ((9093618344966750645, 34825, 34832), 'Call the next witness.'), ((9093618344966750645, 34936, 34940), 'Alice!'), ((9093618344966750645, 34948, 34952), 'Here!'), ((9093618344966750645, 35117, 35125), 'The trial cannot proceed,'), ((9093618344966750645, 35237, 35244), ' she said to herself; '), ((9093618344966750645, 35347, 35357), 'What do you know about this business?'), ((9093618344966750645, 35365, 35369), 'Nothing,'), ((9093618344966750645, 35373, 35378), 'Nothing WHATEVER?'), ((9093618344966750645, 35383, 35388), 'Nothing whatever,'), ((9093618344966750645, 35515, 35519), 'important,'), ((9093618344966750645, 35522, 35526), 'unimportant.'), ((9093618344966750645, 35584, 35588), 'Silence!'), ((9093618344966750645, 35636, 35641), 'You are,'), ((9093618344966750645, 35646, 35653), 'Nearly two miles high,'), ((9093618344966750645, 35711, 35721), 'Then it ought to be Number One,'), ((9093618344966750645, 35739, 35745), 'Consider your verdict,'), ((9093618344966750645, 35819, 35826), ' said the White Rabbit, '), ((9093618344966750645, 35846, 35854), 'It must have been that,'), ((9093618344966750645, 35877, 35885), 'Who is it directed to?'), ((9093618344966750645, 35900, 35907), ' said the White Rabbit; '), ((9093618344966750645, 35978, 35985), ' said the White Rabbit, '), ((9093618344966750645, 36032, 36038), 'Please your Majesty,'), ((9093618344966750645, 36078, 36084), ' said the King, '), ((9093618344966750645, 36143, 36150), 'That PROVES his guilt,'), ((9093618344966750645, 36155, 36164), 'It proves nothing of the sort!'), ((9093618344966750645, 36184, 36189), 'Read them,'), ((9093618344966750645, 36219, 36226), 'Begin at the beginning,'), ((9093618344966750645, 36489, 36500), 'If any one of them can explain it,'), ((9093618344966750645, 36600, 36606), ' said the King, '), ((9093618344966750645, 36706, 36714), 'Do I look like it?'), ((9093618344966750645, 36885, 36889), 'Never!'), ((9093618344966750645, 37010, 37019), 'Let the jury consider their verdict,'), ((9093618344966750645, 37053, 37059), 'Stuff and nonsense!'), ((9093618344966750645, 37076, 37082), 'Hold your tongue!'), ((9093618344966750645, 37100, 37107), 'Off with her head!'), ((9093618344966750645, 37122, 37129), 'Who cares for you?'), ((9093618344966750645, 37249, 37255), ' said her sister; ')]\n"
     ]
    }
   ],
   "source": [
    "matcher = Matcher(nlp.vocab)\n",
    "pattern = [\n",
    "    {\"ORTH\":\"'\"},\n",
    "    {\"IS_ALPHA\":True, \"OP\":\"+\"},\n",
    "    {\"IS_PUNCT\":True, \"OP\":\"*\"},\n",
    "    {\"ORTH\":\"'\"},\n",
    "      ] # Now we want all the proper nouns which are followed by then the verb\n",
    "matcher.add(\"Quotations\", patterns=[pattern], greedy=\"LONGEST\") # greedy will take the longest one after concatenation\n",
    "matches = matcher(doc)\n",
    "matches.sort(key=lambda x:x[1])# sort in increasing order of their strting indexes\n",
    "print([(lexeme, doc[lexeme[1]:lexeme[2]]) for lexeme in matches])"
   ]
  },
  {
   "cell_type": "code",
   "execution_count": 73,
   "metadata": {},
   "outputs": [
    {
     "name": "stdout",
     "output_type": "stream",
     "text": [
      "[((9093618344966750645, 599, 604), 'Well!' thought), ((9093618344966750645, 2230, 2238), 'What a curious feeling!' said), ((9093618344966750645, 3357, 3368), 'You ought to be ashamed of yourself,' said), ((9093618344966750645, 4465, 4474), 'That WAS a narrow escape!' said), ((9093618344966750645, 4546, 4556), 'and things are worse than ever,' thought), ((9093618344966750645, 6182, 6187), 'Ahem!' said), ((9093618344966750645, 6273, 6278), 'Ugh!' said), ((9093618344966750645, 6286, 6294), 'I beg your pardon!' said), ((9093618344966750645, 6312, 6318), 'Not I!' said), ((9093618344966750645, 6323, 6331), 'I thought you did,' said), ((9093618344966750645, 6375, 6381), 'Found WHAT?' said), ((9093618344966750645, 6536, 6544), 'As wet as ever,' said), ((9093618344966750645, 6565, 6572), 'In that case,' said), ((9093618344966750645, 6601, 6607), 'Speak English!' said), ((9093618344966750645, 6664, 6674), 'What I was going to say,' said), ((9093618344966750645, 6750, 6755), 'Why,' said), ((9093618344966750645, 7203, 7210), 'Only a thimble,' said), ((9093618344966750645, 7214, 7222), 'Hand it over here,' said), ((9093618344966750645, 7450, 7462), 'Mine is a long and a sad tale!' said), ((9093618344966750645, 7696, 7704), 'You are not attending!' said), ((9093618344966750645, 7720, 7728), 'I beg your pardon,' said), ((9093618344966750645, 7764, 7770), 'A knot!' said), ((9093618344966750645, 7800, 7811), 'I shall do nothing of the sort,' said), ((9093618344966750645, 9382, 9392), 'It was much pleasanter at home,' thought), ((9093618344966750645, 9556, 9562), 'But then,' thought), ((9093618344966750645, 10824, 10834), 'We must burn the house down!' said), ((9093618344966750645, 10939, 10947), 'A barrowful of WHAT?' thought), ((9093618344966750645, 11387, 11394), 'Poor little thing!' said), ((9093618344966750645, 11717, 11730), 'And yet what a dear little puppy it was!' said), ((9093618344966750645, 12052, 12059), 'Who are YOU?' said), ((9093618344966750645, 12124, 12134), 'What do you mean by that?' said), ((9093618344966750645, 12307, 12314), 'Not a bit,' said), ((9093618344966750645, 12349, 12354), 'You!' said), ((9093618344966750645, 12425, 12430), 'Why?' said), ((9093618344966750645, 12512, 12519), 'Keep your temper,' said), ((9093618344966750645, 12523, 12530), 'Is that all?' said), ((9093618344966750645, 12544, 12549), 'No,' said), ((9093618344966750645, 12836, 12843), 'You are old,' said), ((9093618344966750645, 12884, 12891), 'In my youth,' said), ((9093618344966750645, 12933, 12940), 'You are old,' said), ((9093618344966750645, 12982, 12989), 'In my youth,' said), ((9093618344966750645, 13032, 13039), 'You are old,' said), ((9093618344966750645, 13131, 13140), 'That is not said right,' said), ((9093618344966750645, 13171, 13182), 'It is wrong from beginning to end,' said), ((9093618344966750645, 13291, 13299), 'Are you content now?' said), ((9093618344966750645, 13343, 13354), 'It is a very good height indeed!' said), ((9093618344966750645, 13551, 13558), 'Of the mushroom,' said), ((9093618344966750645, 13918, 13929), 'What CAN all that green stuff be?' said), ((9093618344966750645, 14511, 14519), 'A likely story indeed!' said), ((9093618344966750645, 14735, 14746), 'It matters a good deal to ME,' said), ((9093618344966750645, 15063, 15070), 'Whoever lives there,' thought), ((9093618344966750645, 15833, 15844), 'ARE you to get in at all?' said), ((9093618344966750645, 15953, 15963), 'But what am I to do?' said), ((9093618344966750645, 15966, 15973), 'Anything you like,' said), ((9093618344966750645, 16184, 16193), 'Please would you tell me,' said), ((9093618344966750645, 16323, 16330), 'They all can,' said), ((9093618344966750645, 16612, 16622), 'Which would NOT be an advantage,' said), ((9093618344966750645, 16679, 16686), 'Talking of axes,' said), ((9093618344966750645, 17823, 17839), 'That depends a good deal on where you want to get to,' said), ((9093618344966750645, 18063, 18070), 'You must be,' said), ((9093618344966750645, 18113, 18120), 'To begin with,' said), ((9093618344966750645, 18138, 18145), 'I suppose so,' said), ((9093618344966750645, 18222, 18231), 'Call it what you like,' said), ((9093618344966750645, 18250, 18260), 'I should like it very much,' said), ((9093618344966750645, 18385, 18393), 'I thought it would,' said), ((9093618344966750645, 18572, 18578), 'All right,' said), ((9093618344966750645, 18867, 18876), 'Very uncomfortable for the Dormouse,' thought), ((9093618344966750645, 19102, 19110), 'Your hair wants cutting,' said), ((9093618344966750645, 19256, 19262), 'Exactly so,' said), ((9093618344966750645, 19315, 19325), 'Not the same thing a bit!' said), ((9093618344966750645, 19448, 19459), 'It IS the same thing with you,' said), ((9093618344966750645, 19825, 19836), 'Which is just the case with MINE,' said), ((9093618344966750645, 19889, 19898), 'The Dormouse is asleep again,' said), ((9093618344966750645, 20004, 20010), 'Nor I,' said), ((9093618344966750645, 20052, 20065), 'If you knew Time as well as I do,' said), ((9093618344966750645, 20724, 20730), 'Exactly so,' said), ((9093618344966750645, 20896, 20904), 'Tell us a story!' said), ((9093618344966750645, 20992, 21001), 'What did they live on?' said), ((9093618344966750645, 21018, 21026), 'They lived on treacle,' said), ((9093618344966750645, 21064, 21071), 'So they were,' said), ((9093618344966750645, 21201, 21209), 'Nobody asked YOUR opinion,' said), ((9093618344966750645, 21442, 21450), 'What did they draw?' said), ((9093618344966750645, 21458, 21463), 'Treacle,' said), ((9093618344966750645, 21772, 21780), 'Why with an M?' said), ((9093618344966750645, 21783, 21789), 'Why not?' said), ((9093618344966750645, 22427, 22433), 'What for?' said), ((9093618344966750645, 22549, 22557), 'Would you tell me,' said), ((9093618344966750645, 23055, 23060), 'Idiot!' said), ((9093618344966750645, 23140, 23148), 'And who are THESE?' said), ((9093618344966750645, 23220, 23228), 'How should I know?' said), ((9093618344966750645, 23280, 23285), 'Nonsense!' said), ((9093618344966750645, 23362, 23368), 'Get up!' said), ((9093618344966750645, 23451, 23460), 'May it please your Majesty,' said), ((9093618344966750645, 23484, 23490), 'I see!' said), ((9093618344966750645, 23738, 23743), 'Very,' said), ((9093618344966750645, 23812, 23818), 'What for?' said), ((9093618344966750645, 24355, 24361), 'and then,' thought), ((9093618344966750645, 24485, 24494), 'How are you getting on?' said), ((9093618344966750645, 24766, 24773), 'Not at all,' said), ((9093618344966750645, 24831, 24840), 'Who ARE you talking to?' said), ((9093618344966750645, 24965, 24976), 'A cat may look at a king,' said), ((9093618344966750645, 26408, 26414), 'Very true,' said), ((9093618344966750645, 26496, 26504), 'Of course it is,' said), ((9093618344966750645, 26596, 26605), 'I quite agree with you,' said), ((9093618344966750645, 26792, 26801), 'A cheap sort of present!' thought), ((9093618344966750645, 26878, 26887), 'Just about as much right,' said), ((9093618344966750645, 27289, 27294), 'No,' said), ((9093618344966750645, 27619, 27627), 'What IS the fun?' said), ((9093618344966750645, 27842, 27850), 'This here young lady,' said), ((9093618344966750645, 27956, 27961), 'Once,' said), ((9093618344966750645, 28140, 28152), 'We called him Tortoise because he taught us,' said), ((9093618344966750645, 28282, 28288), 'You did,' said), ((9093618344966750645, 28381, 28386), 'Yes,' said), ((9093618344966750645, 28397, 28403), 'And washing?' said), ((9093618344966750645, 28408, 28414), 'Certainly not!' said), ((9093618344966750645, 28638, 28643), 'Yes,' said), ((9093618344966750645, 28799, 28807), 'What was THAT like?' said), ((9093618344966750645, 28942, 28956), 'And how many hours a day did you do lessons?' said), ((9093618344966750645, 28968, 28977), 'Ten hours the first day,' said), ((9093618344966750645, 29071, 29079), 'Of course it was,' said), ((9093618344966750645, 29338, 29343), 'Why,' said), ((9093618344966750645, 29626, 29637), 'It must be a very pretty dance,' said), ((9093618344966750645, 29641, 29654), 'Would you like to see a little of it?' said), ((9093618344966750645, 29659, 29666), 'Very much indeed,' said), ((9093618344966750645, 30175, 30180), 'Yes,' said), ((9093618344966750645, 30335, 30342), 'The reason is,' said), ((9093618344966750645, 30407, 30413), 'Thank you,' said), ((9093618344966750645, 30468, 30477), 'I never thought about it,' said), ((9093618344966750645, 30763, 30770), 'Of course not,' said), ((9093618344966750645, 30902, 30909), 'Explain all that,' said), ((9093618344966750645, 31152, 31163), 'TIS THE VOICE OF THE SLUGGARD,\"' said), ((9093618344966750645, 31434, 31445), 'I should like to have it explained,' said), ((9093618344966750645, 33084, 33092), 'Call the first witness,' said), ((9093618344966750645, 33187, 33196), 'You ought to have finished,' said), ((9093618344966750645, 33252, 33257), 'Fifteenth,' said), ((9093618344966750645, 33421, 33428), 'Give your evidence,' said), ((9093618344966750645, 33874, 33883), 'The twinkling of the what?' said), ((9093618344966750645, 33900, 33911), 'Of course twinkling begins with a T!' said), ((9093618344966750645, 33976, 33982), 'You did!' said), ((9093618344966750645, 33986, 33993), 'I deny it!' said), ((9093618344966750645, 33998, 34005), 'He denies it,' said), ((9093618344966750645, 34465, 34472), 'You may go,' said), ((9093618344966750645, 34533, 34541), 'Call the next witness!' said), ((9093618344966750645, 34598, 34605), 'Give your evidence,' said), ((9093618344966750645, 34718, 34723), 'Treacle,' said), ((9093618344966750645, 34808, 34814), 'Never mind!' said), ((9093618344966750645, 35117, 35126), 'The trial cannot proceed,' said), ((9093618344966750645, 35365, 35370), 'Nothing,' said), ((9093618344966750645, 35383, 35389), 'Nothing whatever,' said), ((9093618344966750645, 35636, 35642), 'You are,' said), ((9093618344966750645, 35711, 35722), 'Then it ought to be Number One,' said), ((9093618344966750645, 35846, 35855), 'It must have been that,' said), ((9093618344966750645, 36032, 36039), 'Please your Majesty,' said), ((9093618344966750645, 36143, 36151), 'That PROVES his guilt,' said), ((9093618344966750645, 36155, 36165), 'It proves nothing of the sort!' said), ((9093618344966750645, 36184, 36190), 'Read them,' said), ((9093618344966750645, 36489, 36501), 'If any one of them can explain it,' said), ((9093618344966750645, 36885, 36890), 'Never!' said), ((9093618344966750645, 37053, 37060), 'Stuff and nonsense!' said), ((9093618344966750645, 37076, 37083), 'Hold your tongue!' said), ((9093618344966750645, 37122, 37130), 'Who cares for you?' said)]\n"
     ]
    }
   ],
   "source": [
    "speak_lemmas = [\"think\", \"say\"]\n",
    "matcher = Matcher(nlp.vocab)\n",
    "pattern = [\n",
    "    {\"ORTH\":\"'\"},\n",
    "    {\"IS_ALPHA\":True, \"OP\":\"+\"},\n",
    "    {\"IS_PUNCT\":True, \"OP\":\"*\"},\n",
    "    {\"ORTH\":\"'\"},\n",
    "    {\"POS\":\"VERB\", \"LEMMA\":{\"IN\":speak_lemmas}}\n",
    "      ] # Now we want all the proper nouns which are followed by then the verb\n",
    "matcher.add(\"Quotations\", patterns=[pattern], greedy=\"LONGEST\") # greedy will take the longest one after concatenation\n",
    "matches = matcher(doc)\n",
    "matches.sort(key=lambda x:x[1])# sort in increasing order of their strting indexes\n",
    "print([(lexeme, doc[lexeme[1]:lexeme[2]]) for lexeme in matches])"
   ]
  },
  {
   "cell_type": "code",
   "execution_count": 74,
   "metadata": {},
   "outputs": [
    {
     "name": "stdout",
     "output_type": "stream",
     "text": [
      "[((9093618344966750645, 599, 605), 'Well!' thought Alice), ((9093618344966750645, 2230, 2239), 'What a curious feeling!' said Alice), ((9093618344966750645, 3357, 3369), 'You ought to be ashamed of yourself,' said Alice), ((9093618344966750645, 4465, 4475), 'That WAS a narrow escape!' said Alice), ((9093618344966750645, 6536, 6545), 'As wet as ever,' said Alice), ((9093618344966750645, 7203, 7211), 'Only a thimble,' said Alice), ((9093618344966750645, 7720, 7729), 'I beg your pardon,' said Alice), ((9093618344966750645, 7764, 7771), 'A knot!' said Alice), ((9093618344966750645, 9556, 9563), 'But then,' thought Alice), ((9093618344966750645, 10939, 10948), 'A barrowful of WHAT?' thought Alice), ((9093618344966750645, 11387, 11395), 'Poor little thing!' said Alice), ((9093618344966750645, 11717, 11731), 'And yet what a dear little puppy it was!' said Alice), ((9093618344966750645, 12523, 12531), 'Is that all?' said Alice), ((9093618344966750645, 13918, 13930), 'What CAN all that green stuff be?' said Alice), ((9093618344966750645, 14735, 14747), 'It matters a good deal to ME,' said Alice), ((9093618344966750645, 15063, 15071), 'Whoever lives there,' thought Alice), ((9093618344966750645, 15953, 15964), 'But what am I to do?' said Alice), ((9093618344966750645, 16184, 16194), 'Please would you tell me,' said Alice), ((9093618344966750645, 16612, 16623), 'Which would NOT be an advantage,' said Alice), ((9093618344966750645, 18138, 18146), 'I suppose so,' said Alice), ((9093618344966750645, 18250, 18261), 'I should like it very much,' said Alice), ((9093618344966750645, 18867, 18877), 'Very uncomfortable for the Dormouse,' thought Alice), ((9093618344966750645, 19256, 19263), 'Exactly so,' said Alice), ((9093618344966750645, 20992, 21002), 'What did they live on?' said Alice), ((9093618344966750645, 21201, 21210), 'Nobody asked YOUR opinion,' said Alice), ((9093618344966750645, 21442, 21451), 'What did they draw?' said Alice), ((9093618344966750645, 21772, 21781), 'Why with an M?' said Alice), ((9093618344966750645, 22549, 22558), 'Would you tell me,' said Alice), ((9093618344966750645, 23220, 23229), 'How should I know?' said Alice), ((9093618344966750645, 23280, 23286), 'Nonsense!' said Alice), ((9093618344966750645, 23738, 23744), 'Very,' said Alice), ((9093618344966750645, 23812, 23819), 'What for?' said Alice), ((9093618344966750645, 24766, 24774), 'Not at all,' said Alice), ((9093618344966750645, 24965, 24977), 'A cat may look at a king,' said Alice), ((9093618344966750645, 26792, 26802), 'A cheap sort of present!' thought Alice), ((9093618344966750645, 27289, 27295), 'No,' said Alice), ((9093618344966750645, 27619, 27628), 'What IS the fun?' said Alice), ((9093618344966750645, 28381, 28387), 'Yes,' said Alice), ((9093618344966750645, 28408, 28415), 'Certainly not!' said Alice), ((9093618344966750645, 28638, 28644), 'Yes,' said Alice), ((9093618344966750645, 28799, 28808), 'What was THAT like?' said Alice), ((9093618344966750645, 28942, 28957), 'And how many hours a day did you do lessons?' said Alice), ((9093618344966750645, 29626, 29638), 'It must be a very pretty dance,' said Alice), ((9093618344966750645, 29659, 29667), 'Very much indeed,' said Alice), ((9093618344966750645, 30175, 30181), 'Yes,' said Alice), ((9093618344966750645, 30407, 30414), 'Thank you,' said Alice), ((9093618344966750645, 30468, 30478), 'I never thought about it,' said Alice), ((9093618344966750645, 35365, 35371), 'Nothing,' said Alice), ((9093618344966750645, 35383, 35390), 'Nothing whatever,' said Alice), ((9093618344966750645, 35711, 35723), 'Then it ought to be Number One,' said Alice), ((9093618344966750645, 36155, 36166), 'It proves nothing of the sort!' said Alice), ((9093618344966750645, 36489, 36502), 'If any one of them can explain it,' said Alice), ((9093618344966750645, 37053, 37061), 'Stuff and nonsense!' said Alice), ((9093618344966750645, 37122, 37131), 'Who cares for you?' said Alice)]\n"
     ]
    }
   ],
   "source": [
    "speak_lemmas = [\"think\", \"say\"]\n",
    "matcher = Matcher(nlp.vocab)\n",
    "pattern = [\n",
    "    {\"ORTH\":\"'\"},\n",
    "    {\"IS_ALPHA\":True, \"OP\":\"+\"},\n",
    "    {\"IS_PUNCT\":True, \"OP\":\"*\"},\n",
    "    {\"ORTH\":\"'\"},\n",
    "    {\"POS\":\"VERB\", \"LEMMA\":{\"IN\":speak_lemmas}},\n",
    "    {\"POS\":\"PROPN\", \"OP\":\"+\"}\n",
    "      ] # Now we want all the proper nouns which are followed by then the verb\n",
    "matcher.add(\"Quotations\", patterns=[pattern], greedy=\"LONGEST\") # greedy will take the longest one after concatenation\n",
    "matches = matcher(doc)\n",
    "matches.sort(key=lambda x:x[1])# sort in increasing order of their strting indexes\n",
    "print([(lexeme, doc[lexeme[1]:lexeme[2]]) for lexeme in matches])"
   ]
  },
  {
   "cell_type": "markdown",
   "metadata": {},
   "source": [
    "# Custome components"
   ]
  },
  {
   "cell_type": "code",
   "execution_count": 78,
   "metadata": {},
   "outputs": [],
   "source": [
    "doc = nlp(\"Britain is a place. Mary is a doctor.\")"
   ]
  },
  {
   "cell_type": "code",
   "execution_count": 79,
   "metadata": {},
   "outputs": [
    {
     "name": "stdout",
     "output_type": "stream",
     "text": [
      "Britain GPE\n",
      "Mary PERSON\n"
     ]
    }
   ],
   "source": [
    "for ent in doc.ents:\n",
    "    print(ent.text, ent.label_)"
   ]
  },
  {
   "cell_type": "code",
   "execution_count": 80,
   "metadata": {},
   "outputs": [],
   "source": [
    "from spacy.language import Language"
   ]
  },
  {
   "cell_type": "code",
   "execution_count": 81,
   "metadata": {},
   "outputs": [],
   "source": [
    "@Language.component(\"remove_gpe\")\n",
    "def remove_gpe(doc):\n",
    "    original_ents = list(doc.ents)\n",
    "    for ent in doc.ents:\n",
    "        if ent.label_ == \"GPE\":\n",
    "            original_ents.remove(ent)\n",
    "    doc.ents = original_ents\n",
    "    return doc"
   ]
  },
  {
   "cell_type": "code",
   "execution_count": 82,
   "metadata": {},
   "outputs": [
    {
     "data": {
      "text/plain": [
       "<function __main__.remove_gpe(doc)>"
      ]
     },
     "execution_count": 82,
     "metadata": {},
     "output_type": "execute_result"
    }
   ],
   "source": [
    "nlp.add_pipe(\"remove_gpe\")"
   ]
  },
  {
   "cell_type": "code",
   "execution_count": 83,
   "metadata": {},
   "outputs": [
    {
     "data": {
      "text/plain": [
       "{'summary': {'tok2vec': {'assigns': ['doc.tensor'],\n",
       "   'requires': [],\n",
       "   'scores': [],\n",
       "   'retokenizes': False},\n",
       "  'tagger': {'assigns': ['token.tag'],\n",
       "   'requires': [],\n",
       "   'scores': ['tag_acc'],\n",
       "   'retokenizes': False},\n",
       "  'parser': {'assigns': ['token.dep',\n",
       "    'token.head',\n",
       "    'token.is_sent_start',\n",
       "    'doc.sents'],\n",
       "   'requires': [],\n",
       "   'scores': ['dep_uas',\n",
       "    'dep_las',\n",
       "    'dep_las_per_type',\n",
       "    'sents_p',\n",
       "    'sents_r',\n",
       "    'sents_f'],\n",
       "   'retokenizes': False},\n",
       "  'attribute_ruler': {'assigns': [],\n",
       "   'requires': [],\n",
       "   'scores': [],\n",
       "   'retokenizes': False},\n",
       "  'lemmatizer': {'assigns': ['token.lemma'],\n",
       "   'requires': [],\n",
       "   'scores': ['lemma_acc'],\n",
       "   'retokenizes': False},\n",
       "  'ner': {'assigns': ['doc.ents', 'token.ent_iob', 'token.ent_type'],\n",
       "   'requires': [],\n",
       "   'scores': ['ents_f', 'ents_p', 'ents_r', 'ents_per_type'],\n",
       "   'retokenizes': False},\n",
       "  'remove_gpe': {'assigns': [],\n",
       "   'requires': [],\n",
       "   'scores': [],\n",
       "   'retokenizes': False}},\n",
       " 'problems': {'tok2vec': [],\n",
       "  'tagger': [],\n",
       "  'parser': [],\n",
       "  'attribute_ruler': [],\n",
       "  'lemmatizer': [],\n",
       "  'ner': [],\n",
       "  'remove_gpe': []},\n",
       " 'attrs': {'doc.ents': {'assigns': ['ner'], 'requires': []},\n",
       "  'token.lemma': {'assigns': ['lemmatizer'], 'requires': []},\n",
       "  'token.head': {'assigns': ['parser'], 'requires': []},\n",
       "  'token.is_sent_start': {'assigns': ['parser'], 'requires': []},\n",
       "  'doc.tensor': {'assigns': ['tok2vec'], 'requires': []},\n",
       "  'token.ent_type': {'assigns': ['ner'], 'requires': []},\n",
       "  'token.tag': {'assigns': ['tagger'], 'requires': []},\n",
       "  'token.dep': {'assigns': ['parser'], 'requires': []},\n",
       "  'token.ent_iob': {'assigns': ['ner'], 'requires': []},\n",
       "  'doc.sents': {'assigns': ['parser'], 'requires': []}}}"
      ]
     },
     "execution_count": 83,
     "metadata": {},
     "output_type": "execute_result"
    }
   ],
   "source": [
    "nlp.analyze_pipes()"
   ]
  },
  {
   "cell_type": "code",
   "execution_count": 84,
   "metadata": {},
   "outputs": [
    {
     "name": "stdout",
     "output_type": "stream",
     "text": [
      "Mary PERSON\n"
     ]
    }
   ],
   "source": [
    "doc = nlp(\"Britain is a place. Mary is a doctor.\")\n",
    "for ent in doc.ents:\n",
    "    print(ent.text, ent.label_)"
   ]
  },
  {
   "cell_type": "markdown",
   "metadata": {},
   "source": [
    "# REGEX"
   ]
  },
  {
   "cell_type": "code",
   "execution_count": 85,
   "metadata": {},
   "outputs": [],
   "source": [
    "import re\n",
    "text = \"Paul Newman was an American actor, but Paul Hollywood is a British TV host. The name Paul is quite common.\""
   ]
  },
  {
   "cell_type": "code",
   "execution_count": 86,
   "metadata": {},
   "outputs": [],
   "source": [
    "pattern = r\"Paul [A-Z]\\w+\""
   ]
  },
  {
   "cell_type": "code",
   "execution_count": 89,
   "metadata": {},
   "outputs": [
    {
     "name": "stdout",
     "output_type": "stream",
     "text": [
      "<re.Match object; span=(0, 11), match='Paul Newman'>\n",
      "<re.Match object; span=(39, 53), match='Paul Hollywood'>\n"
     ]
    }
   ],
   "source": [
    "matches = re.finditer(pattern, text)\n",
    "for match in matches:\n",
    "    print(match)"
   ]
  },
  {
   "cell_type": "code",
   "execution_count": 90,
   "metadata": {},
   "outputs": [],
   "source": [
    "from spacy.tokens import Span"
   ]
  },
  {
   "cell_type": "code",
   "execution_count": 98,
   "metadata": {},
   "outputs": [
    {
     "data": {
      "text/plain": [
       "[(0, 11, 'Paul Newman'), (39, 53, 'Paul Hollywood')]"
      ]
     },
     "execution_count": 98,
     "metadata": {},
     "output_type": "execute_result"
    }
   ],
   "source": [
    "nlp = spacy.blank(\"en\")\n",
    "doc = nlp(\"Paul Newman was an American actor, but Paul Hollywood is a British TV host. The name Paul is quite common.\")\n",
    "original_ents = list(doc.ents)\n",
    "mwt_ents = []\n",
    "matches = re.finditer(pattern, doc.text)\n",
    "for match in matches:\n",
    "    start,end = match.span()\n",
    "    span = doc.char_span(start,end)\n",
    "    if span is not None:\n",
    "        mwt_ents.append((start,end, span.text))\n",
    "\n",
    "mwt_ents"
   ]
  }
 ],
 "metadata": {
  "kernelspec": {
   "display_name": ".venv",
   "language": "python",
   "name": "python3"
  },
  "language_info": {
   "codemirror_mode": {
    "name": "ipython",
    "version": 3
   },
   "file_extension": ".py",
   "mimetype": "text/x-python",
   "name": "python",
   "nbconvert_exporter": "python",
   "pygments_lexer": "ipython3",
   "version": "3.11.3"
  }
 },
 "nbformat": 4,
 "nbformat_minor": 2
}
